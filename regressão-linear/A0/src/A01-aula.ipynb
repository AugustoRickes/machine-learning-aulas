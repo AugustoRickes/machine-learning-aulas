{
 "cells": [
  {
   "cell_type": "markdown",
   "metadata": {},
   "source": [
    "Importação da Bibliotecas iniciais"
   ]
  },
  {
   "cell_type": "code",
   "execution_count": null,
   "metadata": {},
   "outputs": [],
   "source": []
  },
  {
   "cell_type": "markdown",
   "metadata": {},
   "source": [
    "Examinando os dados\n",
    "\n",
    "https://www.kaggle.com/datasets/dongeorge/beer-consumption-sao-paulo"
   ]
  },
  {
   "cell_type": "code",
   "execution_count": null,
   "metadata": {},
   "outputs": [],
   "source": []
  },
  {
   "cell_type": "code",
   "execution_count": null,
   "metadata": {},
   "outputs": [],
   "source": []
  },
  {
   "cell_type": "markdown",
   "metadata": {},
   "source": [
    "Distribuição de dados (tupla: linhas e colunas)"
   ]
  },
  {
   "cell_type": "code",
   "execution_count": null,
   "metadata": {},
   "outputs": [],
   "source": []
  },
  {
   "cell_type": "markdown",
   "metadata": {},
   "source": [
    "Estatística descritiva"
   ]
  },
  {
   "cell_type": "code",
   "execution_count": null,
   "metadata": {},
   "outputs": [],
   "source": [
    " # round(2) arredonda para 2 casas decimais"
   ]
  },
  {
   "cell_type": "markdown",
   "metadata": {},
   "source": [
    "Coeficiente de correlação de Pearson\n",
    "\n",
    "Uma medida de correlação linear entre duas variáveis X e Y que assume valores entre -1 e 1;"
   ]
  },
  {
   "cell_type": "code",
   "execution_count": null,
   "metadata": {},
   "outputs": [],
   "source": [
    "# converte a coluna data de string para o formato datetime\n",
    "\n",
    "# +1 indica correlação positiva perfeita\n",
    "# -1 indica correlação negativa perfeita"
   ]
  },
  {
   "cell_type": "markdown",
   "metadata": {},
   "source": [
    "Variável Dependente (Y)\n",
    "\n",
    "Onde Y é uma série temporal (coletada diariamente)\n",
    "\n",
    "Plotar a variável dependente"
   ]
  },
  {
   "cell_type": "code",
   "execution_count": null,
   "metadata": {},
   "outputs": [],
   "source": []
  },
  {
   "cell_type": "markdown",
   "metadata": {},
   "source": [
    "O Boxplot é um diagrama de caixa construído utilizando as referências: centro dos dados (a média ou mediana), a amplitude dos dados (máximo – mínimo), a simetria ou assimetria do conjunto de dados e a presença de outliers.\n",
    "\n",
    "https://seaborn.pydata.org/generated/seaborn.boxplot.html"
   ]
  },
  {
   "cell_type": "code",
   "execution_count": null,
   "metadata": {},
   "outputs": [],
   "source": []
  },
  {
   "cell_type": "code",
   "execution_count": null,
   "metadata": {},
   "outputs": [],
   "source": []
  },
  {
   "cell_type": "code",
   "execution_count": null,
   "metadata": {},
   "outputs": [],
   "source": []
  },
  {
   "cell_type": "markdown",
   "metadata": {},
   "source": [
    "Curva Normal (Sino)\n",
    "\n",
    "https://www.bing.com/images/search?q=curva+normal\n",
    "\n",
    "Os métodos estatísticos mais conhecidos supõem que a variável dependente segue a distribuição normal. Uma forma preliminar de se averiguar a hipótese de normalidade da variável dependente é através do histograma\n",
    "\n",
    "https://seaborn.pydata.org/generated/seaborn.histplot.html#seaborn.histplot\n",
    "\n",
    "Eixo x (horizontal): No eixo horizontal do histograma, você encontrará os valores da variável dependente. Esses valores são divididos em intervalos chamados \"bins\" ou classes. Cada bin representa um intervalo de valores da variável.\n",
    "\n",
    "Eixo y (vertical): No eixo vertical, você verá a frequência ou contagem de observações que caem em cada bin. Em outras palavras, o eixo y mostra quantas vezes os valores da variável dependente ocorreram dentro de cada intervalo."
   ]
  },
  {
   "cell_type": "code",
   "execution_count": null,
   "metadata": {},
   "outputs": [],
   "source": []
  },
  {
   "cell_type": "markdown",
   "metadata": {},
   "source": [
    "Relação Linear da Variável Dependente (Y) x Variáveis explicativas\n",
    "\n",
    "https://seaborn.pydata.org/generated/seaborn.pairplot.html?highlight=pairplot#seaborn.pairplot"
   ]
  },
  {
   "cell_type": "code",
   "execution_count": null,
   "metadata": {},
   "outputs": [],
   "source": []
  },
  {
   "cell_type": "code",
   "execution_count": null,
   "metadata": {},
   "outputs": [],
   "source": []
  },
  {
   "cell_type": "code",
   "execution_count": null,
   "metadata": {},
   "outputs": [],
   "source": []
  },
  {
   "cell_type": "markdown",
   "metadata": {},
   "source": [
    "https://seaborn.pydata.org/generated/seaborn.jointplot.html?highlight=jointplot#seaborn.jointplot"
   ]
  },
  {
   "cell_type": "code",
   "execution_count": null,
   "metadata": {},
   "outputs": [],
   "source": []
  },
  {
   "cell_type": "markdown",
   "metadata": {},
   "source": [
    "https://seaborn.pydata.org/generated/seaborn.lmplot.html?highlight=lmplot#seaborn.lmplot"
   ]
  },
  {
   "cell_type": "code",
   "execution_count": null,
   "metadata": {},
   "outputs": [],
   "source": []
  },
  {
   "cell_type": "markdown",
   "metadata": {},
   "source": [
    "Relação Linear da Variável Dependente (Y) x Temperatura, terceira variável na análise"
   ]
  },
  {
   "cell_type": "code",
   "execution_count": null,
   "metadata": {},
   "outputs": [],
   "source": []
  },
  {
   "cell_type": "code",
   "execution_count": null,
   "metadata": {},
   "outputs": [],
   "source": []
  },
  {
   "cell_type": "markdown",
   "metadata": {},
   "source": [
    "**O que é Regressão Linear?**\n",
    "\n",
    "A Regressão Linear é um método fundamental em machine learning que nos ajuda a entender e prever relacionamentos entre variáveis. É uma técnica utilizada para encontrar uma linha reta (ou plano em casos de Regressão Linear Multivariada) que melhor representa a relação entre uma variável de entrada (ou mais, no caso multivariado) e uma variável de saída.\n",
    "\n",
    "**Como funciona a Regressão Linear?**\n",
    "\n",
    "Imagine que temos um conjunto de dados com duas variáveis, X e Y. Queremos descobrir se há uma relação linear entre essas variáveis e, se houver, podemos usar essa relação para fazer previsões. A ideia é encontrar a \"melhor\" linha reta que se ajusta aos nossos dados.\n",
    "\n",
    "A linha reta é representada por uma equação na forma:\n",
    "\n",
    "\\[ Y = aX + b \\]\n",
    "\n",
    "Onde:\n",
    "- **Y** é a variável de saída (a que queremos prever).\n",
    "- **X** é a variável de entrada (a que usamos para prever Y).\n",
    "- **a** é o coeficiente angular da linha (inclinação).\n",
    "- **b** é o intercepto da linha (onde ela cruza o eixo Y quando X é igual a zero).\n",
    "\n",
    "**Como encontramos os coeficientes (a e b)?**\n",
    "\n",
    "Aqui entra a parte de \"treinar\" nosso modelo de Regressão Linear. Usamos um algoritmo para encontrar os valores de **a** e **b** que minimizam a diferença entre os valores previstos pela nossa linha e os valores reais do conjunto de dados. Isso é feito ajustando a linha de forma que ela esteja o mais próxima possível dos pontos de dados reais.\n",
    "\n",
    "**Para que serve a Regressão Linear?**\n",
    "\n",
    "A Regressão Linear é usada principalmente para dois propósitos:\n",
    "\n",
    "1. **Modelagem:** Podemos usar a Regressão Linear para entender a relação entre variáveis. Por exemplo, se estamos estudando o efeito do tempo de estudo no desempenho dos alunos, a Regressão Linear pode nos ajudar a quantificar essa relação.\n",
    "\n",
    "2. **Previsão:** Uma vez que temos uma linha que representa a relação entre as variáveis, podemos usá-la para fazer previsões. Se sabemos o valor de X, podemos prever o valor de Y.\n",
    "\n",
    "**Resumindo:**\n",
    "\n",
    "A Regressão Linear é uma técnica fundamental em machine learning que nos permite encontrar uma relação linear entre variáveis. Ela é usada para modelagem e previsão. A ideia é encontrar uma linha reta que melhor se ajusta aos dados, representada pela equação \\( Y = aX + b \\), onde \\( a \\) e \\( b \\) são coeficientes que são ajustados automaticamente durante o treinamento do modelo."
   ]
  },
  {
   "cell_type": "markdown",
   "metadata": {},
   "source": [
    "BIBLIOTECA Scikit-Learn\n",
    "\n",
    "sklearn, é uma das bibliotecas de machine learning mais populares e amplamente usadas na linguagem de programação Python. Essa biblioteca oferece uma ampla variedade de ferramentas e funcionalidades para realizar tarefas de aprendizado de máquina, incluindo classificação, regressão, clusterização, redução de dimensionalidade, seleção de recursos e muito mais.\n",
    "\n",
    "https://scikit-learn.org/stable/user_guide.html"
   ]
  },
  {
   "cell_type": "markdown",
   "metadata": {},
   "source": [
    "https://scikit-learn.org/stable/modules/generated/sklearn.model_selection.train_test_split.html"
   ]
  },
  {
   "cell_type": "code",
   "execution_count": null,
   "metadata": {},
   "outputs": [],
   "source": []
  },
  {
   "cell_type": "markdown",
   "metadata": {},
   "source": [
    "Criar Series (pandas) para o Consumo de Cerveja => y"
   ]
  },
  {
   "cell_type": "code",
   "execution_count": null,
   "metadata": {},
   "outputs": [],
   "source": []
  },
  {
   "cell_type": "markdown",
   "metadata": {},
   "source": [
    "Criar DataFrame (pandas) para as variáveis explicativas => X"
   ]
  },
  {
   "cell_type": "code",
   "execution_count": null,
   "metadata": {},
   "outputs": [],
   "source": []
  },
  {
   "cell_type": "markdown",
   "metadata": {},
   "source": [
    "Separar o Dataset em conjuntos de Treino e Teste\n",
    "\n",
    "desempacota a tupla em 4 variáveis e define o tamanho do teste em 30%"
   ]
  },
  {
   "cell_type": "code",
   "execution_count": null,
   "metadata": {},
   "outputs": [],
   "source": []
  },
  {
   "cell_type": "code",
   "execution_count": null,
   "metadata": {},
   "outputs": [],
   "source": []
  },
  {
   "cell_type": "markdown",
   "metadata": {},
   "source": [
    "Importar ferramentas para Regressão Linear do Scikit-Learn\n",
    "\n",
    "https://scikit-learn.org/stable/modules/generated/sklearn.linear_model.LinearRegression.html"
   ]
  },
  {
   "cell_type": "code",
   "execution_count": null,
   "metadata": {},
   "outputs": [],
   "source": []
  },
  {
   "cell_type": "markdown",
   "metadata": {},
   "source": [
    "https://scikit-learn.org/stable/modules/classes.html#module-sklearn.metrics"
   ]
  },
  {
   "cell_type": "code",
   "execution_count": null,
   "metadata": {},
   "outputs": [],
   "source": []
  },
  {
   "cell_type": "markdown",
   "metadata": {},
   "source": [
    "Instanciar a classe do LinearRegression"
   ]
  },
  {
   "cell_type": "code",
   "execution_count": null,
   "metadata": {},
   "outputs": [],
   "source": []
  },
  {
   "cell_type": "code",
   "execution_count": null,
   "metadata": {},
   "outputs": [],
   "source": []
  },
  {
   "cell_type": "markdown",
   "metadata": {},
   "source": [
    "Coeficiente de Determinação - R²\n",
    "\n",
    "Assume valores de 0 a 1\n",
    "\n",
    "Imagine que temos um modelo de regressão que tenta prever valores de saída com base em valores de entrada. O R² mede a proporção da variabilidade nos valores de saída que é explicada pelo modelo.\n",
    "\n",
    "Em termos simples, quanto mais próximo o R² estiver de 1, melhor o modelo está em fazer previsões precisas. Quanto mais próximo de 0, pior o modelo está em explicar a variabilidade nos dados."
   ]
  },
  {
   "cell_type": "code",
   "execution_count": null,
   "metadata": {},
   "outputs": [],
   "source": []
  },
  {
   "cell_type": "markdown",
   "metadata": {},
   "source": [
    "Gerar Previsões com o modelo treinado de Machine Learning => LinearRegression"
   ]
  },
  {
   "cell_type": "code",
   "execution_count": null,
   "metadata": {},
   "outputs": [],
   "source": []
  },
  {
   "cell_type": "markdown",
   "metadata": {},
   "source": [
    "Coeficiente de Determinação - R² com ferramenta metrics\n",
    "\n",
    "calcula o R² do modelo de teste (dados não utilizados no treinamento)"
   ]
  },
  {
   "cell_type": "code",
   "execution_count": null,
   "metadata": {},
   "outputs": [],
   "source": []
  },
  {
   "cell_type": "markdown",
   "metadata": {},
   "source": [
    "**ATENÇÃO o valor de R² NÃO é o quanto/% que o modelo está acertando/errando pois este modelo é de Regressão, isto é, não classifica nenhum valor. Em regressão é o quanto da variação foi explicada pela variáveis explicativas**"
   ]
  },
  {
   "cell_type": "markdown",
   "metadata": {},
   "source": [
    "Aplicabilidade do Modelo"
   ]
  },
  {
   "cell_type": "code",
   "execution_count": null,
   "metadata": {},
   "outputs": [],
   "source": []
  },
  {
   "cell_type": "code",
   "execution_count": null,
   "metadata": {},
   "outputs": [],
   "source": []
  },
  {
   "cell_type": "code",
   "execution_count": null,
   "metadata": {},
   "outputs": [],
   "source": []
  },
  {
   "cell_type": "code",
   "execution_count": null,
   "metadata": {},
   "outputs": [],
   "source": []
  },
  {
   "cell_type": "code",
   "execution_count": null,
   "metadata": {},
   "outputs": [],
   "source": []
  },
  {
   "cell_type": "code",
   "execution_count": null,
   "metadata": {},
   "outputs": [],
   "source": []
  },
  {
   "cell_type": "code",
   "execution_count": null,
   "metadata": {},
   "outputs": [],
   "source": []
  },
  {
   "cell_type": "markdown",
   "metadata": {},
   "source": [
    "**Intercepto:**\n",
    "\n",
    "Excluindo a ação das variáveis explicativas, o efeito médio no Consumo é de...\n",
    "\n",
    "**Temperatura Máxima:**\n",
    "\n",
    "Com Precipitação e Final de Semana constantes, para cada +1°C gera uma variação média no Consumo de...\n",
    "\n",
    "**Precipitação:**\n",
    "\n",
    "Com Temp. Max. e Final de Semana constantes, para cada +1mm gera uma variação média no Consumo de...\n",
    "\n",
    "**Final de Semana:**\n",
    "\n",
    "Com Temp. Max. e Precipitação constantes, o fato de ser Final de Semana gera uma variação média no Consumo de..."
   ]
  },
  {
   "cell_type": "markdown",
   "metadata": {},
   "source": [
    "**VALIDAÇÃO DO MODELO**\n",
    "\n",
    "https://seaborn.pydata.org/generated/seaborn.scatterplot.html"
   ]
  },
  {
   "cell_type": "code",
   "execution_count": null,
   "metadata": {},
   "outputs": [],
   "source": []
  },
  {
   "cell_type": "code",
   "execution_count": null,
   "metadata": {},
   "outputs": [],
   "source": []
  },
  {
   "cell_type": "markdown",
   "metadata": {},
   "source": [
    "Obtendo os resíduos"
   ]
  },
  {
   "cell_type": "code",
   "execution_count": null,
   "metadata": {},
   "outputs": [],
   "source": []
  },
  {
   "cell_type": "markdown",
   "metadata": {},
   "source": [
    "**Gráfico de dispersão entre as variáveis estimadas e os resíduos**\n",
    "\n",
    "Variabilidade Constante: Em um modelo de regressão, estamos tentando modelar a relação entre uma variável independente (ou preditora) e uma variável dependente (ou resposta). A homocedasticidade implica que a variabilidade dos erros (diferença entre os valores observados e os valores previstos pelo modelo) seja aproximadamente constante em todos os níveis da variável preditora.\n",
    "\n",
    "Gráfico de Resíduos: Uma maneira comum de verificar a homocedasticidade é criar um gráfico de resíduos. Os resíduos são as diferenças entre os valores observados e os valores previstos pelo modelo de regressão. Se a variabilidade dos resíduos for constante em relação aos valores previstos, o gráfico de resíduos terá uma aparência uniforme e aleatória ao longo de toda a faixa dos valores previstos.\n",
    "\n",
    "**ao ajustar modelos de regressão, é sempre aconselhável verificar se a suposição de homocedasticidade é atendida por meio de gráficos de resíduos e outras técnicas de diagnóstico.**"
   ]
  },
  {
   "cell_type": "code",
   "execution_count": null,
   "metadata": {},
   "outputs": [],
   "source": []
  },
  {
   "cell_type": "markdown",
   "metadata": {},
   "source": [
    "Os resíduos ao quadrado são frequentemente usados para detectar a presença de **heterocedasticidade** em um modelo de regressão e para verificar se a suposição de homocedasticidade foi violada.\n",
    "\n",
    "Variação Não Constante: Em um cenário de heterocedasticidade, a variabilidade dos erros tende a aumentar ou diminuir à medida que os valores previstos pelo modelo de regressão mudam. Isso pode ser visualizado em um gráfico de resíduos, onde os pontos tendem a se espalhar mais amplamente em algumas partes da faixa dos valores previstos e se contraem em outras.\n",
    "\n",
    "https://www.bing.com/images/search?q=heterocedasticidade"
   ]
  },
  {
   "cell_type": "code",
   "execution_count": null,
   "metadata": {},
   "outputs": [],
   "source": []
  },
  {
   "cell_type": "markdown",
   "metadata": {},
   "source": [
    "Distribuição de frequências dos resíduos"
   ]
  },
  {
   "cell_type": "code",
   "execution_count": null,
   "metadata": {},
   "outputs": [],
   "source": []
  }
 ],
 "metadata": {
  "kernelspec": {
   "display_name": "base",
   "language": "python",
   "name": "python3"
  },
  "language_info": {
   "codemirror_mode": {
    "name": "ipython",
    "version": 3
   },
   "file_extension": ".py",
   "mimetype": "text/x-python",
   "name": "python",
   "nbconvert_exporter": "python",
   "pygments_lexer": "ipython3",
   "version": "3.11.4"
  },
  "orig_nbformat": 4
 },
 "nbformat": 4,
 "nbformat_minor": 2
}
