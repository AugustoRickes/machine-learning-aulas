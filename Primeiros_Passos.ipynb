{
  "nbformat": 4,
  "nbformat_minor": 0,
  "metadata": {
    "colab": {
      "provenance": [],
      "authorship_tag": "ABX9TyMYbYH6ZhzxsLEpqoLI61QS",
      "include_colab_link": true
    },
    "kernelspec": {
      "name": "python3",
      "display_name": "Python 3"
    },
    "language_info": {
      "name": "python"
    }
  },
  "cells": [
    {
      "cell_type": "markdown",
      "metadata": {
        "id": "view-in-github",
        "colab_type": "text"
      },
      "source": [
        "<a href=\"https://colab.research.google.com/github/chiarorosa/ia_aprendizado_maquina_basico/blob/main/Primeiros_Passos.ipynb\" target=\"_parent\"><img src=\"https://colab.research.google.com/assets/colab-badge.svg\" alt=\"Open In Colab\"/></a>"
      ]
    },
    {
      "cell_type": "code",
      "execution_count": 2,
      "metadata": {
        "id": "4EFOYa8MY5V9"
      },
      "outputs": [],
      "source": [
        "# O Colaboratory ou “Colab” é um produto do Google Research, área de pesquisas científicas do Google. \n",
        "# O Colab permite que qualquer pessoa escreva e execute código Python arbitrário pelo navegador e é especialmente adequado \n",
        "# para aprendizado de máquina, análise de dados e educação. \n",
        "# Mais tecnicamente, o Colab é um serviço de notebooks hospedados do Jupyter que não requer nenhuma configuração para usar e \n",
        "# oferece acesso sem custo financeiro a recursos de computação como GPUs."
      ]
    }
  ]
}