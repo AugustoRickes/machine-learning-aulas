{
 "cells": [
  {
   "cell_type": "markdown",
   "metadata": {},
   "source": [
    "Biblioteca NumPy:\n",
    "    Para computação númerica e cientifica\n",
    "    Operações com arrays:\n",
    "        São muito rápidas\n",
    "        Ocupam menos memória\n",
    "        Dispõe de uma série de métodos"
   ]
  },
  {
   "cell_type": "code",
   "execution_count": null,
   "metadata": {},
   "outputs": [],
   "source": []
  }
 ],
 "metadata": {
  "language_info": {
   "name": "python"
  },
  "orig_nbformat": 4
 },
 "nbformat": 4,
 "nbformat_minor": 2
}
