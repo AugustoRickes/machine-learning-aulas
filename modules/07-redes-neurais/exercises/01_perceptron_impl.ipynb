{
 "cells": [
  {
   "cell_type": "markdown",
   "id": "0",
   "metadata": {},
   "source": [
    "# Exercício: Implementando Perceptron\n",
    "\n",
    "## Objetivo\n",
    "\n",
    "Implementar um perceptron simples do zero para compreender os fundamentos das redes neurais.\n",
    "\n",
    "## Instruções\n",
    "\n",
    "- Complete as funções nas células marcadas com `# TODO`\n",
    "- Mantenha a assinatura das funções\n",
    "- Use apenas numpy\n",
    "- Execute as células de teste para verificar sua implementação\n"
   ]
  },
  {
   "cell_type": "code",
   "execution_count": null,
   "id": "1",
   "metadata": {},
   "outputs": [],
   "source": [
    "# Importações permitidas\n",
    "import numpy as np\n",
    "\n",
    "# Configurar seed\n",
    "np.random.seed(42)"
   ]
  },
  {
   "cell_type": "markdown",
   "id": "2",
   "metadata": {},
   "source": [
    "## Exercício 1: Função de Ativação Degrau\n"
   ]
  },
  {
   "cell_type": "code",
   "execution_count": null,
   "id": "3",
   "metadata": {},
   "outputs": [],
   "source": [
    "def step_function(x):\n",
    "    \"\"\"\n",
    "    Função de ativação degrau (step function).\n",
    "\n",
    "    Parâmetros:\n",
    "    x (float ou array): Valor(es) de entrada\n",
    "\n",
    "    Retorna:\n",
    "    int ou array: 1 se x >= 0, senão 0\n",
    "    \"\"\"\n",
    "    # TODO: Implementar função degrau\n",
    "    # Retorna 1 se x >= 0, senão 0\n",
    "\n",
    "    return np.where(np.array(x) >= 0, 1, 0)"
   ]
  },
  {
   "cell_type": "markdown",
   "id": "4",
   "metadata": {},
   "source": [
    "## Exercício 2: Função de Ativação Sigmoid\n"
   ]
  },
  {
   "cell_type": "code",
   "execution_count": null,
   "id": "5",
   "metadata": {},
   "outputs": [],
   "source": [
    "def sigmoid(x):\n",
    "    \"\"\"\n",
    "    Função de ativação sigmoid.\n",
    "\n",
    "    Parâmetros:\n",
    "    x (float ou array): Valor(es) de entrada\n",
    "\n",
    "    Retorna:\n",
    "    float ou array: Valor(es) entre 0 e 1\n",
    "    \"\"\"\n",
    "    # TODO: Implementar função sigmoid\n",
    "    # sigmoid(x) = 1 / (1 + e^(-x))\n",
    "    # Dica: Use np.exp() e tenha cuidado com overflow\n",
    "\n",
    "    x = np.array(x)\n",
    "    # Evitar overflow usando np.clip\n",
    "    x = np.clip(x, -500, 500)\n",
    "    return 1 / (1 + np.exp(-x))"
   ]
  },
  {
   "cell_type": "markdown",
   "id": "6",
   "metadata": {},
   "source": [
    "## Exercício 3: Classe Perceptron\n"
   ]
  },
  {
   "cell_type": "code",
   "execution_count": null,
   "id": "7",
   "metadata": {},
   "outputs": [],
   "source": [
    "class Perceptron:\n",
    "    \"\"\"\n",
    "    Implementação de um Perceptron simples.\n",
    "    \"\"\"\n",
    "\n",
    "    def __init__(self, learning_rate=0.1, n_iterations=100):\n",
    "        \"\"\"\n",
    "        Inicializa o perceptron.\n",
    "\n",
    "        Parâmetros:\n",
    "        learning_rate (float): Taxa de aprendizado\n",
    "        n_iterations (int): Número de iterações de treinamento\n",
    "        \"\"\"\n",
    "        self.learning_rate = learning_rate\n",
    "        self.n_iterations = n_iterations\n",
    "        self.weights = None\n",
    "        self.bias = None\n",
    "\n",
    "    def fit(self, X, y):\n",
    "        \"\"\"\n",
    "        Treina o perceptron.\n",
    "\n",
    "        Parâmetros:\n",
    "        X (array): Features de treinamento (n_samples, n_features)\n",
    "        y (array): Labels de treinamento (n_samples,)\n",
    "        \"\"\"\n",
    "        # TODO: Implementar treinamento do perceptron\n",
    "        # 1. Inicializar pesos e bias\n",
    "        # 2. Para cada iteração:\n",
    "        #    - Calcular predições\n",
    "        #    - Calcular erro\n",
    "        #    - Atualizar pesos e bias\n",
    "\n",
    "        X = np.array(X)\n",
    "        y = np.array(y)\n",
    "\n",
    "        n_samples, n_features = X.shape\n",
    "\n",
    "        # Inicializar pesos e bias\n",
    "        self.weights = np.random.normal(0, 0.01, n_features)\n",
    "        self.bias = 0\n",
    "\n",
    "        # Treinamento\n",
    "        for i in range(self.n_iterations):\n",
    "            for idx in range(n_samples):\n",
    "                # Forward pass\n",
    "                linear_output = np.dot(X[idx], self.weights) + self.bias\n",
    "                prediction = step_function(linear_output)\n",
    "\n",
    "                # Calcular erro\n",
    "                error = y[idx] - prediction\n",
    "\n",
    "                # Atualizar pesos e bias\n",
    "                self.weights += self.learning_rate * error * X[idx]\n",
    "                self.bias += self.learning_rate * error\n",
    "\n",
    "    def predict(self, X):\n",
    "        \"\"\"\n",
    "        Faz predições com o perceptron treinado.\n",
    "\n",
    "        Parâmetros:\n",
    "        X (array): Features para predição\n",
    "\n",
    "        Retorna:\n",
    "        array: Predições (0 ou 1)\n",
    "        \"\"\"\n",
    "        # TODO: Implementar predição\n",
    "        # linear_output = X @ weights + bias\n",
    "        # prediction = step_function(linear_output)\n",
    "\n",
    "        X = np.array(X)\n",
    "        linear_output = np.dot(X, self.weights) + self.bias\n",
    "        return step_function(linear_output)"
   ]
  },
  {
   "cell_type": "markdown",
   "id": "8",
   "metadata": {},
   "source": [
    "## Exercício 4: Função para Gerar Dados Linearmente Separáveis\n"
   ]
  },
  {
   "cell_type": "code",
   "execution_count": null,
   "id": "9",
   "metadata": {},
   "outputs": [],
   "source": [
    "def generate_linearly_separable_data(n_samples=100, noise=0.1, random_state=42):\n",
    "    \"\"\"\n",
    "    Gera dados linearmente separáveis para teste do perceptron.\n",
    "\n",
    "    Parâmetros:\n",
    "    n_samples (int): Número de amostras\n",
    "    noise (float): Nível de ruído\n",
    "    random_state (int): Seed para reprodutibilidade\n",
    "\n",
    "    Retorna:\n",
    "    tuple: (X, y) onde X são as features e y são os labels\n",
    "    \"\"\"\n",
    "    # TODO: Implementar geração de dados linearmente separáveis\n",
    "    # Dica: Gere pontos aleatórios e defina uma linha de separação\n",
    "    # Exemplo: pontos acima da linha y = x recebem label 1, abaixo recebem 0\n",
    "\n",
    "    np.random.seed(random_state)\n",
    "\n",
    "    # Gerar pontos aleatórios\n",
    "    X = np.random.randn(n_samples, 2)\n",
    "\n",
    "    # Definir linha de separação: x1 + x2 > 0\n",
    "    y = (X[:, 0] + X[:, 1] > 0).astype(int)\n",
    "\n",
    "    # Adicionar ruído\n",
    "    if noise > 0:\n",
    "        # Trocar alguns labels aleatoriamente\n",
    "        n_flip = int(noise * n_samples)\n",
    "        flip_indices = np.random.choice(n_samples, n_flip, replace=False)\n",
    "        y[flip_indices] = 1 - y[flip_indices]\n",
    "\n",
    "    return X, y"
   ]
  },
  {
   "cell_type": "markdown",
   "id": "10",
   "metadata": {},
   "source": [
    "## Exercício 5: Função de Acurácia\n"
   ]
  },
  {
   "cell_type": "code",
   "execution_count": null,
   "id": "11",
   "metadata": {},
   "outputs": [],
   "source": [
    "def accuracy_score(y_true, y_pred):\n",
    "    \"\"\"\n",
    "    Calcula a acurácia entre predições e valores reais.\n",
    "\n",
    "    Parâmetros:\n",
    "    y_true (array): Valores reais\n",
    "    y_pred (array): Valores preditos\n",
    "\n",
    "    Retorna:\n",
    "    float: Acurácia (entre 0 e 1)\n",
    "    \"\"\"\n",
    "    # TODO: Implementar cálculo de acurácia\n",
    "    # Acurácia = (número de predições corretas) / (total de predições)\n",
    "\n",
    "    y_true = np.array(y_true)\n",
    "    y_pred = np.array(y_pred)\n",
    "\n",
    "    return np.mean(y_true == y_pred)"
   ]
  },
  {
   "cell_type": "markdown",
   "id": "12",
   "metadata": {},
   "source": [
    "## Testes das Implementações\n"
   ]
  },
  {
   "cell_type": "code",
   "execution_count": null,
   "id": "13",
   "metadata": {},
   "outputs": [],
   "source": [
    "# Teste das funções de ativação\n",
    "print(\"Teste Step Function:\")\n",
    "print(f\"step_function(1): {step_function(1)}\")\n",
    "print(f\"step_function(-1): {step_function(-1)}\")\n",
    "print(f\"step_function(0): {step_function(0)}\")\n",
    "\n",
    "print(\"\\nTeste Sigmoid:\")\n",
    "print(f\"sigmoid(0): {sigmoid(0)}\")\n",
    "print(f\"sigmoid(1): {sigmoid(1):.3f}\")\n",
    "print(f\"sigmoid(-1): {sigmoid(-1):.3f}\")"
   ]
  },
  {
   "cell_type": "code",
   "execution_count": null,
   "id": "14",
   "metadata": {},
   "outputs": [],
   "source": [
    "# Teste do perceptron\n",
    "print(\"Teste Perceptron:\")\n",
    "\n",
    "# Gerar dados\n",
    "X, y = generate_linearly_separable_data(n_samples=50, noise=0.0, random_state=42)\n",
    "print(f\"Dados gerados: {X.shape[0]} amostras, {X.shape[1]} features\")\n",
    "\n",
    "# Treinar perceptron\n",
    "perceptron = Perceptron(learning_rate=0.1, n_iterations=50)\n",
    "perceptron.fit(X, y)\n",
    "\n",
    "# Fazer predições\n",
    "predictions = perceptron.predict(X)\n",
    "acc = accuracy_score(y, predictions)\n",
    "\n",
    "print(f\"Acurácia: {acc:.3f}\")\n",
    "print(f\"Pesos finais: {perceptron.weights}\")\n",
    "print(f\"Bias final: {perceptron.bias}\")"
   ]
  }
 ],
 "metadata": {
  "language_info": {
   "name": "python"
  }
 },
 "nbformat": 4,
 "nbformat_minor": 5
}
