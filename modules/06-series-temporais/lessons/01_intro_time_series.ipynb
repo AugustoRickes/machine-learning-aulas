{
 "cells": [
  {
   "cell_type": "markdown",
   "id": "6c45b785",
   "metadata": {},
   "source": [
    "# Introdução a Séries Temporais\n",
    "\n",
    "Este notebook apresenta os conceitos fundamentais de análise de séries temporais.\n"
   ]
  },
  {
   "cell_type": "code",
   "execution_count": null,
   "id": "1d06ff54",
   "metadata": {},
   "outputs": [],
   "source": [
    "# Imports básicos\n",
    "import numpy as np\n",
    "import pandas as pd\n",
    "import matplotlib.pyplot as plt\n",
    "from datetime import datetime, timedelta\n",
    "import seaborn as sns\n",
    "\n",
    "# Configuração de plotting\n",
    "plt.style.use(\"seaborn-v0_8\")\n",
    "plt.rcParams[\"figure.figsize\"] = (12, 6)"
   ]
  },
  {
   "cell_type": "markdown",
   "id": "37b05075",
   "metadata": {},
   "source": [
    "## Objetivos da Aula\n",
    "\n",
    "- Conceitos básicos de séries temporais\n",
    "- Componentes: tendência, sazonalidade, ruído\n",
    "- Análise exploratória\n",
    "- Estacionariedade\n"
   ]
  },
  {
   "cell_type": "code",
   "execution_count": null,
   "id": "e81b64c7",
   "metadata": {},
   "outputs": [],
   "source": []
  }
 ],
 "metadata": {
  "language_info": {
   "name": "python"
  }
 },
 "nbformat": 4,
 "nbformat_minor": 5
}
