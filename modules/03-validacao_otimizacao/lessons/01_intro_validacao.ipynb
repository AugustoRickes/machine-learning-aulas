{
 "cells": [
  {
   "cell_type": "markdown",
   "id": "9b13afa3",
   "metadata": {},
   "source": [
    "# Introdução à Validação de Modelos\n",
    "\n",
    "Este notebook apresenta os conceitos fundamentais de validação de modelos de machine learning.\n"
   ]
  },
  {
   "cell_type": "code",
   "execution_count": null,
   "id": "c4a32549",
   "metadata": {},
   "outputs": [],
   "source": [
    "# Imports básicos\n",
    "import numpy as np\n",
    "import pandas as pd\n",
    "import matplotlib.pyplot as plt\n",
    "from sklearn.datasets import make_classification\n",
    "from sklearn.model_selection import train_test_split, validation_curve\n",
    "from sklearn.tree import DecisionTreeClassifier\n",
    "\n",
    "# Configuração de plotting\n",
    "plt.style.use(\"seaborn-v0_8\")\n",
    "plt.rcParams[\"figure.figsize\"] = (10, 6)"
   ]
  },
  {
   "cell_type": "markdown",
   "id": "aebffb83",
   "metadata": {},
   "source": [
    "## Objetivos da Aula\n",
    "\n",
    "- Entender a importância da validação\n",
    "- Conceitos de overfitting e underfitting\n",
    "- Train, validation, test splits\n",
    "- Holdout validation\n"
   ]
  },
  {
   "cell_type": "code",
   "execution_count": null,
   "id": "761508ef",
   "metadata": {},
   "outputs": [],
   "source": []
  }
 ],
 "metadata": {
  "language_info": {
   "name": "python"
  }
 },
 "nbformat": 4,
 "nbformat_minor": 5
}
