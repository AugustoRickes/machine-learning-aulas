{
 "cells": [
  {
   "cell_type": "markdown",
   "id": "f7f5cec2",
   "metadata": {},
   "source": [
    "# Cross Validation\n",
    "\n",
    "Este notebook apresenta técnicas de validação cruzada para avaliação robusta de modelos.\n"
   ]
  },
  {
   "cell_type": "code",
   "execution_count": null,
   "id": "8a533366",
   "metadata": {},
   "outputs": [],
   "source": [
    "# Imports básicos\n",
    "import numpy as np\n",
    "import pandas as pd\n",
    "import matplotlib.pyplot as plt\n",
    "from sklearn.datasets import make_classification\n",
    "from sklearn.model_selection import cross_val_score, StratifiedKFold, KFold\n",
    "from sklearn.tree import DecisionTreeClassifier\n",
    "from sklearn.ensemble import RandomForestClassifier\n",
    "\n",
    "# Configuração de plotting\n",
    "plt.style.use(\"seaborn-v0_8\")\n",
    "plt.rcParams[\"figure.figsize\"] = (10, 6)"
   ]
  },
  {
   "cell_type": "markdown",
   "id": "0918a2f5",
   "metadata": {},
   "source": [
    "## Objetivos da Aula\n",
    "\n",
    "- Entender cross-validation\n",
    "- K-Fold e Stratified K-Fold\n",
    "- Leave-One-Out Cross-Validation\n",
    "- Escolha do número de folds\n"
   ]
  },
  {
   "cell_type": "code",
   "execution_count": null,
   "id": "b35f403f",
   "metadata": {},
   "outputs": [],
   "source": []
  }
 ],
 "metadata": {
  "language_info": {
   "name": "python"
  }
 },
 "nbformat": 4,
 "nbformat_minor": 5
}
