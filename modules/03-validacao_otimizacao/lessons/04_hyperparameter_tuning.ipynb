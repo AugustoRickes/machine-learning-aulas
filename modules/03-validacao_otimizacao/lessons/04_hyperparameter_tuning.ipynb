{
 "cells": [
  {
   "cell_type": "markdown",
   "id": "a677c5de",
   "metadata": {},
   "source": [
    "# Hyperparameter Tuning\n",
    "\n",
    "Este notebook apresenta técnicas para otimização de hiperparâmetros.\n"
   ]
  },
  {
   "cell_type": "code",
   "execution_count": null,
   "id": "4c1f65ce",
   "metadata": {},
   "outputs": [],
   "source": [
    "# Imports básicos\n",
    "import numpy as np\n",
    "import pandas as pd\n",
    "import matplotlib.pyplot as plt\n",
    "from sklearn.datasets import make_classification\n",
    "from sklearn.model_selection import GridSearchCV, RandomizedSearchCV, cross_val_score\n",
    "from sklearn.ensemble import RandomForestClassifier\n",
    "from sklearn.svm import SVC\n",
    "\n",
    "# Configuração de plotting\n",
    "plt.style.use(\"seaborn-v0_8\")\n",
    "plt.rcParams[\"figure.figsize\"] = (10, 6)"
   ]
  },
  {
   "cell_type": "markdown",
   "id": "bff0bb5b",
   "metadata": {},
   "source": [
    "## Objetivos da Aula\n",
    "\n",
    "- Grid Search\n",
    "- Random Search\n",
    "- Nested Cross-Validation\n",
    "- Estratégias de otimização\n"
   ]
  },
  {
   "cell_type": "code",
   "execution_count": null,
   "id": "db30b684",
   "metadata": {},
   "outputs": [],
   "source": []
  }
 ],
 "metadata": {
  "language_info": {
   "name": "python"
  }
 },
 "nbformat": 4,
 "nbformat_minor": 5
}
