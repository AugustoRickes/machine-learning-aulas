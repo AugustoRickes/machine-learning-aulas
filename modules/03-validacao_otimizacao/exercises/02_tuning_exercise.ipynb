{
 "cells": [
  {
   "cell_type": "markdown",
   "id": "8708905e",
   "metadata": {},
   "source": [
    "# Exercício: Tuning de Hiperparâmetros\n",
    "\n",
    "Este exercício prático explora técnicas de otimização de hiperparâmetros.\n"
   ]
  },
  {
   "cell_type": "code",
   "execution_count": null,
   "id": "5e59527e",
   "metadata": {},
   "outputs": [],
   "source": [
    "# Imports necessários\n",
    "import numpy as np\n",
    "import pandas as pd\n",
    "import matplotlib.pyplot as plt\n",
    "from sklearn.datasets import load_digits\n",
    "from sklearn.model_selection import train_test_split, GridSearchCV, RandomizedSearchCV, cross_val_score\n",
    "from sklearn.ensemble import RandomForestClassifier\n",
    "from sklearn.svm import SVC\n",
    "from sklearn.metrics import classification_report\n",
    "from scipy.stats import randint, uniform\n",
    "\n",
    "# Configuração de plotting\n",
    "plt.style.use(\"seaborn-v0_8\")\n",
    "plt.rcParams[\"figure.figsize\"] = (10, 6)"
   ]
  },
  {
   "cell_type": "markdown",
   "id": "373b7488",
   "metadata": {},
   "source": [
    "## Objetivos do Exercício\n",
    "\n",
    "- Aplicar Grid Search para otimização\n",
    "- Comparar Grid Search vs Random Search\n",
    "- Implementar nested cross-validation\n",
    "- Analisar trade-offs de performance vs tempo\n"
   ]
  },
  {
   "cell_type": "markdown",
   "id": "354ec8ae",
   "metadata": {},
   "source": [
    "## Tarefa 1: Grid Search\n",
    "\n",
    "Implemente Grid Search para um Random Forest.\n"
   ]
  },
  {
   "cell_type": "code",
   "execution_count": null,
   "id": "3ffa4e59",
   "metadata": {},
   "outputs": [],
   "source": [
    "# Seu código aqui"
   ]
  },
  {
   "cell_type": "markdown",
   "id": "c20b6542",
   "metadata": {},
   "source": [
    "## Tarefa 2: Random Search\n",
    "\n",
    "Compare Grid Search com Random Search.\n"
   ]
  },
  {
   "cell_type": "code",
   "execution_count": null,
   "id": "d574cebf",
   "metadata": {},
   "outputs": [],
   "source": [
    "# Seu código aqui"
   ]
  },
  {
   "cell_type": "markdown",
   "id": "288b3d26",
   "metadata": {},
   "source": [
    "## Tarefa 3: Nested Cross-Validation\n",
    "\n",
    "Implemente nested cross-validation para avaliação imparcial.\n"
   ]
  },
  {
   "cell_type": "code",
   "execution_count": null,
   "id": "d5ab1007",
   "metadata": {},
   "outputs": [],
   "source": [
    "# Seu código aqui"
   ]
  }
 ],
 "metadata": {
  "language_info": {
   "name": "python"
  }
 },
 "nbformat": 4,
 "nbformat_minor": 5
}
