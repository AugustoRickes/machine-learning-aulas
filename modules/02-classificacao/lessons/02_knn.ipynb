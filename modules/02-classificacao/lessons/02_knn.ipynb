{
 "cells": [
  {
   "cell_type": "markdown",
   "id": "4c3743ce",
   "metadata": {},
   "source": [
    "# K-Nearest Neighbors (KNN)\n",
    "\n",
    "Este notebook apresenta o algoritmo K-Nearest Neighbors para classificação.\n"
   ]
  },
  {
   "cell_type": "code",
   "execution_count": null,
   "id": "50527deb",
   "metadata": {},
   "outputs": [],
   "source": [
    "# Imports básicos\n",
    "import numpy as np\n",
    "import pandas as pd\n",
    "import matplotlib.pyplot as plt\n",
    "from sklearn.neighbors import KNeighborsClassifier\n",
    "from sklearn.datasets import make_classification\n",
    "from sklearn.model_selection import train_test_split\n",
    "from sklearn.metrics import classification_report, confusion_matrix\n",
    "\n",
    "# Configuração de plotting\n",
    "plt.style.use(\"seaborn-v0_8\")\n",
    "plt.rcParams[\"figure.figsize\"] = (10, 6)"
   ]
  },
  {
   "cell_type": "markdown",
   "id": "abeee12a",
   "metadata": {},
   "source": [
    "## Objetivos da Aula\n",
    "\n",
    "- Entender como funciona o algoritmo KNN\n",
    "- Implementar KNN com scikit-learn\n",
    "- Analisar o impacto do parâmetro K\n",
    "- Métricas de distância\n"
   ]
  },
  {
   "cell_type": "code",
   "execution_count": null,
   "id": "6a5ff00e",
   "metadata": {},
   "outputs": [],
   "source": []
  }
 ],
 "metadata": {
  "language_info": {
   "name": "python"
  }
 },
 "nbformat": 4,
 "nbformat_minor": 5
}
