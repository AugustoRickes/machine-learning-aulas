{
 "cells": [
  {
   "cell_type": "markdown",
   "id": "5998b499",
   "metadata": {},
   "source": [
    "# Árvores de Decisão\n",
    "\n",
    "Este notebook apresenta o algoritmo de Árvores de Decisão para classificação.\n"
   ]
  },
  {
   "cell_type": "code",
   "execution_count": null,
   "id": "bc09024d",
   "metadata": {},
   "outputs": [],
   "source": [
    "# Imports básicos\n",
    "import numpy as np\n",
    "import pandas as pd\n",
    "import matplotlib.pyplot as plt\n",
    "from sklearn.tree import DecisionTreeClassifier, plot_tree\n",
    "from sklearn.datasets import make_classification\n",
    "from sklearn.model_selection import train_test_split\n",
    "from sklearn.metrics import classification_report, confusion_matrix\n",
    "\n",
    "# Configuração de plotting\n",
    "plt.style.use(\"seaborn-v0_8\")\n",
    "plt.rcParams[\"figure.figsize\"] = (10, 6)"
   ]
  },
  {
   "cell_type": "markdown",
   "id": "8bd3413d",
   "metadata": {},
   "source": [
    "## Objetivos da Aula\n",
    "\n",
    "- Entender como funcionam as árvores de decisão\n",
    "- Implementar Decision Trees com scikit-learn\n",
    "- Visualizar árvores de decisão\n",
    "- Controlar overfitting com parâmetros\n"
   ]
  },
  {
   "cell_type": "code",
   "execution_count": null,
   "id": "17fcd69c",
   "metadata": {},
   "outputs": [],
   "source": []
  }
 ],
 "metadata": {
  "language_info": {
   "name": "python"
  }
 },
 "nbformat": 4,
 "nbformat_minor": 5
}
