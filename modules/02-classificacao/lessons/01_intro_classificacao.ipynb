{
 "cells": [
  {
   "cell_type": "markdown",
   "id": "0686b6b0",
   "metadata": {},
   "source": [
    "# Introdução à Classificação\n",
    "\n",
    "Este notebook apresenta os conceitos fundamentais de classificação em machine learning.\n"
   ]
  },
  {
   "cell_type": "code",
   "execution_count": null,
   "id": "d7fe0389",
   "metadata": {},
   "outputs": [],
   "source": [
    "# Imports básicos\n",
    "import numpy as np\n",
    "import pandas as pd\n",
    "import matplotlib.pyplot as plt\n",
    "from sklearn.datasets import make_classification\n",
    "\n",
    "# Configuração de plotting\n",
    "plt.style.use(\"seaborn-v0_8\")\n",
    "plt.rcParams[\"figure.figsize\"] = (10, 6)"
   ]
  },
  {
   "cell_type": "markdown",
   "id": "4506978a",
   "metadata": {},
   "source": [
    "## Objetivos da Aula\n",
    "\n",
    "- Entender o que é classificação\n",
    "- Tipos de classificação (binária, multiclasse)\n",
    "- Conceitos fundamentais\n",
    "- Preparação de dados para classificação\n"
   ]
  },
  {
   "cell_type": "code",
   "execution_count": null,
   "id": "d8086c27",
   "metadata": {},
   "outputs": [],
   "source": []
  }
 ],
 "metadata": {
  "language_info": {
   "name": "python"
  }
 },
 "nbformat": 4,
 "nbformat_minor": 5
}
