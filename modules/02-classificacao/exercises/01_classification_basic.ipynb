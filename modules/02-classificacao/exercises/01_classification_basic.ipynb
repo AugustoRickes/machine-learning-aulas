{
 "cells": [
  {
   "cell_type": "markdown",
   "id": "05824f36",
   "metadata": {},
   "source": [
    "# Exercício: Classificação Básica\n",
    "\n",
    "Este exercício prático explora conceitos básicos de classificação.\n"
   ]
  },
  {
   "cell_type": "code",
   "execution_count": null,
   "id": "a465f291",
   "metadata": {},
   "outputs": [],
   "source": [
    "# Imports necessários\n",
    "import numpy as np\n",
    "import pandas as pd\n",
    "import matplotlib.pyplot as plt\n",
    "from sklearn.datasets import load_iris\n",
    "from sklearn.model_selection import train_test_split\n",
    "from sklearn.neighbors import KNeighborsClassifier\n",
    "from sklearn.tree import DecisionTreeClassifier\n",
    "from sklearn.metrics import accuracy_score, classification_report\n",
    "\n",
    "# Configuração de plotting\n",
    "plt.style.use(\"seaborn-v0_8\")\n",
    "plt.rcParams[\"figure.figsize\"] = (10, 6)"
   ]
  },
  {
   "cell_type": "markdown",
   "id": "d2c5bb77",
   "metadata": {},
   "source": [
    "## Objetivos do Exercício\n",
    "\n",
    "- Carregar e explorar dados de classificação\n",
    "- Aplicar algoritmos básicos de classificação\n",
    "- Avaliar performance dos modelos\n",
    "- Comparar diferentes abordagens\n"
   ]
  },
  {
   "cell_type": "markdown",
   "id": "6ea6ad87",
   "metadata": {},
   "source": [
    "## Tarefa 1: Carregamento e Exploração dos Dados\n",
    "\n",
    "Carregue o dataset Iris e explore suas características.\n"
   ]
  },
  {
   "cell_type": "code",
   "execution_count": null,
   "id": "16a6c8db",
   "metadata": {},
   "outputs": [],
   "source": [
    "# Seu código aqui"
   ]
  },
  {
   "cell_type": "markdown",
   "id": "bc434543",
   "metadata": {},
   "source": [
    "## Tarefa 2: Implementação KNN\n",
    "\n",
    "Implemente um classificador KNN e avalie sua performance.\n"
   ]
  },
  {
   "cell_type": "code",
   "execution_count": null,
   "id": "adbe1e03",
   "metadata": {},
   "outputs": [],
   "source": [
    "# Seu código aqui"
   ]
  },
  {
   "cell_type": "markdown",
   "id": "ee9698bb",
   "metadata": {},
   "source": [
    "## Tarefa 3: Implementação Decision Tree\n",
    "\n",
    "Implemente uma árvore de decisão e compare com KNN.\n"
   ]
  },
  {
   "cell_type": "code",
   "execution_count": null,
   "id": "88b7c959",
   "metadata": {},
   "outputs": [],
   "source": [
    "# Seu código aqui"
   ]
  }
 ],
 "metadata": {
  "language_info": {
   "name": "python"
  }
 },
 "nbformat": 4,
 "nbformat_minor": 5
}
