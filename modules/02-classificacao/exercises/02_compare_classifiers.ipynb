{
 "cells": [
  {
   "cell_type": "markdown",
   "id": "04e9756f",
   "metadata": {},
   "source": [
    "# Exercício: Comparação de Classificadores\n",
    "\n",
    "Este exercício compara diferentes algoritmos de classificação.\n"
   ]
  },
  {
   "cell_type": "code",
   "execution_count": 53,
   "id": "e8039e87",
   "metadata": {},
   "outputs": [],
   "source": [
    "# Imports necessários\n",
    "import numpy as np\n",
    "import pandas as pd\n",
    "import matplotlib.pyplot as plt\n",
    "from sklearn.datasets import make_classification\n",
    "from sklearn.model_selection import train_test_split\n",
    "from sklearn.neighbors import KNeighborsClassifier\n",
    "from sklearn.tree import DecisionTreeClassifier\n",
    "from sklearn.ensemble import RandomForestClassifier\n",
    "from sklearn.svm import SVC\n",
    "from sklearn.metrics import accuracy_score, classification_report, confusion_matrix\n",
    "import seaborn as sns\n",
    "\n",
    "# Configuração de plotting\n",
    "plt.style.use(\"seaborn-v0_8\")\n",
    "plt.rcParams[\"figure.figsize\"] = (10, 6)"
   ]
  },
  {
   "cell_type": "code",
   "execution_count": 54,
   "id": "1ec2b851",
   "metadata": {},
   "outputs": [
    {
     "name": "stdout",
     "output_type": "stream",
     "text": [
      "Datasets salvos em d:\\Code\\machine-learning-aulas\\datasets\\kaggle, tudo pronto para o Exercício\n"
     ]
    }
   ],
   "source": [
    "# Baixar os datasets deste exercício\n",
    "import kagglehub\n",
    "import shutil\n",
    "from pathlib import Path\n",
    "\n",
    "kaggle_dir = Path.cwd().parent.parent.parent / \"datasets\" / \"kaggle\"\n",
    "kaggle_dir.mkdir(parents=True, exist_ok=True)\n",
    "\n",
    "# Download e move para o projeto\n",
    "kaggle_dataset = \"heart.csv\"\n",
    "path = kagglehub.dataset_download(\"fedesoriano/heart-failure-prediction\")\n",
    "shutil.copy2(f\"{path}/{kaggle_dataset}\", kaggle_dir / kaggle_dataset)\n",
    "\n",
    "kaggle_dataset = \"weatherAUS.csv\"\n",
    "path = kagglehub.dataset_download(\"jsphyg/weather-dataset-rattle-package\")\n",
    "shutil.copy2(f\"{path}/{kaggle_dataset}\", kaggle_dir / kaggle_dataset)\n",
    "\n",
    "print(f\"Datasets salvos em {kaggle_dir}, tudo pronto para o Exercício\")"
   ]
  },
  {
   "cell_type": "markdown",
   "id": "fc9c56ea",
   "metadata": {},
   "source": [
    "## Objetivos do Exercício\n",
    "\n",
    "- Comparar múltiplos algoritmos de classificação\n",
    "- Analisar performance em diferentes datasets\n",
    "- Visualizar resultados de comparação\n",
    "- Escolher o melhor modelo para cada caso\n"
   ]
  },
  {
   "cell_type": "markdown",
   "id": "5ca4128c",
   "metadata": {},
   "source": [
    "## Tarefa 1: Preparação dos Dados\n",
    "\n",
    "Use os datasets baixados:\n",
    "\n",
    "1. **Heart Failure Prediction Dataset** (`heart.csv`): Dataset para predição de falha cardíaca\n",
    "2. **Weather Dataset Australia** (`weatherAUS.csv`): Dataset meteorológico da Austrália\n",
    "\n",
    "**Carregue os datasets com:**\n",
    "\n",
    "```python\n",
    "heart_df = pd.read_csv(\"../../../datasets/kaggle/heart.csv\")\n",
    "weather_df = pd.read_csv(\"../../../datasets/kaggle/weatherAUS.csv\")\n",
    "```\n"
   ]
  },
  {
   "cell_type": "code",
   "execution_count": 55,
   "id": "f4f7e9f5",
   "metadata": {},
   "outputs": [],
   "source": [
    "# Seu código aqui"
   ]
  },
  {
   "cell_type": "markdown",
   "id": "67b78438",
   "metadata": {},
   "source": [
    "## Tarefa 2: Implementação dos Classificadores\n",
    "\n",
    "Implemente e treine diferentes classificadores.\n"
   ]
  },
  {
   "cell_type": "code",
   "execution_count": 56,
   "id": "c2fa77f0",
   "metadata": {},
   "outputs": [],
   "source": [
    "# Seu código aqui"
   ]
  },
  {
   "cell_type": "markdown",
   "id": "166d7e9d",
   "metadata": {},
   "source": [
    "## Tarefa 3: Comparação de Performance\n",
    "\n",
    "Compare a performance dos diferentes modelos.\n"
   ]
  },
  {
   "cell_type": "code",
   "execution_count": 57,
   "id": "da7dd92d",
   "metadata": {},
   "outputs": [],
   "source": [
    "# Seu código aqui"
   ]
  }
 ],
 "metadata": {
  "kernelspec": {
   "display_name": "ml-curso",
   "language": "python",
   "name": "python3"
  },
  "language_info": {
   "codemirror_mode": {
    "name": "ipython",
    "version": 3
   },
   "file_extension": ".py",
   "mimetype": "text/x-python",
   "name": "python",
   "nbconvert_exporter": "python",
   "pygments_lexer": "ipython3",
   "version": "3.12.9"
  }
 },
 "nbformat": 4,
 "nbformat_minor": 5
}
