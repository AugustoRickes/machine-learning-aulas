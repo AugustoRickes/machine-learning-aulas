{
 "cells": [
  {
   "cell_type": "markdown",
   "id": "8e747e66",
   "metadata": {},
   "source": [
    "# Exercício: Pipeline de Feature Engineering\n",
    "\n",
    "Este exercício prático constrói um pipeline completo de feature engineering.\n"
   ]
  },
  {
   "cell_type": "code",
   "execution_count": null,
   "id": "e2a00db6",
   "metadata": {},
   "outputs": [],
   "source": [
    "# Imports necessários\n",
    "import numpy as np\n",
    "import pandas as pd\n",
    "import matplotlib.pyplot as plt\n",
    "from sklearn.preprocessing import StandardScaler, OneHotEncoder\n",
    "from sklearn.compose import ColumnTransformer\n",
    "from sklearn.pipeline import Pipeline\n",
    "from sklearn.ensemble import RandomForestClassifier\n",
    "from sklearn.model_selection import train_test_split, cross_val_score\n",
    "from sklearn.metrics import classification_report\n",
    "import seaborn as sns\n",
    "\n",
    "# Configuração de plotting\n",
    "plt.style.use(\"seaborn-v0_8\")\n",
    "plt.rcParams[\"figure.figsize\"] = (10, 6)"
   ]
  },
  {
   "cell_type": "markdown",
   "id": "dfe5f090",
   "metadata": {},
   "source": [
    "## Objetivos do Exercício\n",
    "\n",
    "- Construir pipeline de preprocessing\n",
    "- Lidar com dados mistos (numéricos e categóricos)\n",
    "- Aplicar transformações apropriadas\n",
    "- Avaliar impacto na performance\n"
   ]
  },
  {
   "cell_type": "markdown",
   "id": "dd8689c8",
   "metadata": {},
   "source": [
    "## Tarefa 1: Exploração dos Dados\n",
    "\n",
    "Carregue e explore um dataset misto.\n"
   ]
  },
  {
   "cell_type": "code",
   "execution_count": null,
   "id": "b6955f08",
   "metadata": {},
   "outputs": [],
   "source": [
    "# Seu código aqui"
   ]
  },
  {
   "cell_type": "markdown",
   "id": "a83e1f6e",
   "metadata": {},
   "source": [
    "## Tarefa 2: Pipeline de Preprocessing\n",
    "\n",
    "Construa um pipeline completo de feature engineering.\n"
   ]
  },
  {
   "cell_type": "code",
   "execution_count": null,
   "id": "b0a8a499",
   "metadata": {},
   "outputs": [],
   "source": [
    "# Seu código aqui"
   ]
  },
  {
   "cell_type": "markdown",
   "id": "bfb49b97",
   "metadata": {},
   "source": [
    "## Tarefa 3: Avaliação\n",
    "\n",
    "Compare performance com e sem preprocessing.\n"
   ]
  },
  {
   "cell_type": "code",
   "execution_count": null,
   "id": "3718a286",
   "metadata": {},
   "outputs": [],
   "source": [
    "# Seu código aqui"
   ]
  }
 ],
 "metadata": {
  "language_info": {
   "name": "python"
  }
 },
 "nbformat": 4,
 "nbformat_minor": 5
}
