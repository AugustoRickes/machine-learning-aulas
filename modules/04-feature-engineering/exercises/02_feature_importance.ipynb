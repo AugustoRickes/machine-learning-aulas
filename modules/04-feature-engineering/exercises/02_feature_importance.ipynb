{
 "cells": [
  {
   "cell_type": "markdown",
   "id": "728d8508",
   "metadata": {},
   "source": [
    "# Exercício: Feature Importance\n",
    "\n",
    "Este exercício explora técnicas para análise de importância de features.\n"
   ]
  },
  {
   "cell_type": "code",
   "execution_count": null,
   "id": "d55f277c",
   "metadata": {},
   "outputs": [],
   "source": [
    "# Imports necessários\n",
    "import numpy as np\n",
    "import pandas as pd\n",
    "import matplotlib.pyplot as plt\n",
    "from sklearn.feature_selection import SelectKBest, RFE\n",
    "from sklearn.ensemble import RandomForestClassifier\n",
    "from sklearn.datasets import load_wine\n",
    "from sklearn.model_selection import train_test_split\n",
    "from sklearn.metrics import accuracy_score\n",
    "import seaborn as sns\n",
    "\n",
    "# Configuração de plotting\n",
    "plt.style.use(\"seaborn-v0_8\")\n",
    "plt.rcParams[\"figure.figsize\"] = (10, 6)"
   ]
  },
  {
   "cell_type": "markdown",
   "id": "d3413314",
   "metadata": {},
   "source": [
    "## Objetivos do Exercício\n",
    "\n",
    "- Analisar importância de features\n",
    "- Aplicar diferentes métodos de seleção\n",
    "- Comparar performance com diferentes subsets\n",
    "- Visualizar resultados\n"
   ]
  },
  {
   "cell_type": "markdown",
   "id": "b2e131ee",
   "metadata": {},
   "source": [
    "## Tarefa 1: Feature Importance com Random Forest\n",
    "\n",
    "Analise a importância das features usando Random Forest.\n"
   ]
  },
  {
   "cell_type": "code",
   "execution_count": null,
   "id": "923055cc",
   "metadata": {},
   "outputs": [],
   "source": [
    "# Seu código aqui"
   ]
  },
  {
   "cell_type": "markdown",
   "id": "a0f95dd7",
   "metadata": {},
   "source": [
    "## Tarefa 2: Recursive Feature Elimination\n",
    "\n",
    "Aplique RFE para seleção de features.\n"
   ]
  },
  {
   "cell_type": "code",
   "execution_count": null,
   "id": "46bbf8ce",
   "metadata": {},
   "outputs": [],
   "source": [
    "# Seu código aqui"
   ]
  },
  {
   "cell_type": "markdown",
   "id": "7cc907c3",
   "metadata": {},
   "source": [
    "## Tarefa 3: Comparação de Métodos\n",
    "\n",
    "Compare diferentes métodos de seleção de features.\n"
   ]
  },
  {
   "cell_type": "code",
   "execution_count": null,
   "id": "40903b18",
   "metadata": {},
   "outputs": [],
   "source": [
    "# Seu código aqui"
   ]
  }
 ],
 "metadata": {
  "language_info": {
   "name": "python"
  }
 },
 "nbformat": 4,
 "nbformat_minor": 5
}
