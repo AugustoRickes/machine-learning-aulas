{
 "cells": [
  {
   "cell_type": "markdown",
   "id": "8c6a0309",
   "metadata": {},
   "source": [
    "# Feature Encoding\n",
    "\n",
    "Este notebook apresenta técnicas para codificação de variáveis categóricas.\n"
   ]
  },
  {
   "cell_type": "code",
   "execution_count": null,
   "id": "67821ffb",
   "metadata": {},
   "outputs": [],
   "source": [
    "# Imports básicos\n",
    "import numpy as np\n",
    "import pandas as pd\n",
    "import matplotlib.pyplot as plt\n",
    "from sklearn.preprocessing import LabelEncoder, OneHotEncoder, OrdinalEncoder\n",
    "from sklearn.datasets import load_titanic\n",
    "import seaborn as sns\n",
    "\n",
    "# Configuração de plotting\n",
    "plt.style.use(\"seaborn-v0_8\")\n",
    "plt.rcParams[\"figure.figsize\"] = (10, 6)"
   ]
  },
  {
   "cell_type": "markdown",
   "id": "b9594311",
   "metadata": {},
   "source": [
    "## Objetivos da Aula\n",
    "\n",
    "- Label Encoding\n",
    "- One-Hot Encoding\n",
    "- Ordinal Encoding\n",
    "- Target Encoding\n",
    "- Lidando com alta cardinalidade\n"
   ]
  },
  {
   "cell_type": "code",
   "execution_count": null,
   "id": "22cf815e",
   "metadata": {},
   "outputs": [],
   "source": []
  }
 ],
 "metadata": {
  "language_info": {
   "name": "python"
  }
 },
 "nbformat": 4,
 "nbformat_minor": 5
}
