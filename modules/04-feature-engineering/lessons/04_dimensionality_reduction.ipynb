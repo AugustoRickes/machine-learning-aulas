{
 "cells": [
  {
   "cell_type": "markdown",
   "id": "edb95418",
   "metadata": {},
   "source": [
    "# Dimensionality Reduction\n",
    "\n",
    "Este notebook apresenta técnicas de redução de dimensionalidade.\n"
   ]
  },
  {
   "cell_type": "code",
   "execution_count": null,
   "id": "132d63e7",
   "metadata": {},
   "outputs": [],
   "source": [
    "# Imports básicos\n",
    "import numpy as np\n",
    "import pandas as pd\n",
    "import matplotlib.pyplot as plt\n",
    "from sklearn.decomposition import PCA, TruncatedSVD\n",
    "from sklearn.manifold import TSNE\n",
    "from sklearn.datasets import load_digits\n",
    "from sklearn.preprocessing import StandardScaler\n",
    "import seaborn as sns\n",
    "\n",
    "# Configuração de plotting\n",
    "plt.style.use(\"seaborn-v0_8\")\n",
    "plt.rcParams[\"figure.figsize\"] = (10, 6)"
   ]
  },
  {
   "cell_type": "markdown",
   "id": "1da35102",
   "metadata": {},
   "source": [
    "## Objetivos da Aula\n",
    "\n",
    "- Principal Component Analysis (PCA)\n",
    "- Truncated SVD\n",
    "- t-SNE para visualização\n",
    "- Escolha do número de componentes\n"
   ]
  },
  {
   "cell_type": "code",
   "execution_count": null,
   "id": "d0e507e8",
   "metadata": {},
   "outputs": [],
   "source": []
  }
 ],
 "metadata": {
  "language_info": {
   "name": "python"
  }
 },
 "nbformat": 4,
 "nbformat_minor": 5
}
