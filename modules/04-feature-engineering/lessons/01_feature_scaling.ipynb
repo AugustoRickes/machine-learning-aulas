{
 "cells": [
  {
   "cell_type": "markdown",
   "id": "54d480b9",
   "metadata": {},
   "source": [
    "# Feature Scaling\n",
    "\n",
    "Este notebook apresenta técnicas de normalização e padronização de features.\n"
   ]
  },
  {
   "cell_type": "code",
   "execution_count": null,
   "id": "9dfb2f25",
   "metadata": {},
   "outputs": [],
   "source": [
    "# Imports básicos\n",
    "import numpy as np\n",
    "import pandas as pd\n",
    "import matplotlib.pyplot as plt\n",
    "from sklearn.preprocessing import StandardScaler, MinMaxScaler, RobustScaler\n",
    "from sklearn.datasets import load_boston\n",
    "from sklearn.model_selection import train_test_split\n",
    "from sklearn.neighbors import KNeighborsRegressor\n",
    "import seaborn as sns\n",
    "\n",
    "# Configuração de plotting\n",
    "plt.style.use(\"seaborn-v0_8\")\n",
    "plt.rcParams[\"figure.figsize\"] = (10, 6)"
   ]
  },
  {
   "cell_type": "markdown",
   "id": "38be10a0",
   "metadata": {},
   "source": [
    "## Objetivos da Aula\n",
    "\n",
    "- Entender a importância do feature scaling\n",
    "- StandardScaler (Z-score normalization)\n",
    "- MinMaxScaler (Min-Max normalization)\n",
    "- RobustScaler para outliers\n"
   ]
  },
  {
   "cell_type": "code",
   "execution_count": null,
   "id": "7ed727a8",
   "metadata": {},
   "outputs": [],
   "source": []
  }
 ],
 "metadata": {
  "language_info": {
   "name": "python"
  }
 },
 "nbformat": 4,
 "nbformat_minor": 5
}
