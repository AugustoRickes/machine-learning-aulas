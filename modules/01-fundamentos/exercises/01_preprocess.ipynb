{
 "cells": [
  {
   "cell_type": "markdown",
   "id": "ff40224f",
   "metadata": {},
   "source": [
    "# Exercício: Pré-processamento Básico\n",
    "\n",
    "## Objetivo\n",
    "\n",
    "Implementar funções básicas de pré-processamento de dados que serão utilizadas em projetos de Machine Learning.\n",
    "\n",
    "## Instruções\n",
    "\n",
    "- Complete as funções nas células marcadas com `# TODO`\n",
    "- Mantenha a assinatura das funções (nome, parâmetros, retorno)\n",
    "- Use apenas as bibliotecas importadas\n",
    "- Execute as células de teste para verificar sua implementação\n"
   ]
  },
  {
   "cell_type": "code",
   "execution_count": 1,
   "id": "a54bf41c",
   "metadata": {},
   "outputs": [],
   "source": [
    "# Importações permitidas\n",
    "import numpy as np\n",
    "import pandas as pd\n",
    "\n",
    "# Configurar seed\n",
    "np.random.seed(42)"
   ]
  },
  {
   "cell_type": "markdown",
   "id": "fc88043d",
   "metadata": {},
   "source": [
    "## Exercício 1: Tratamento de Valores Ausentes\n"
   ]
  },
  {
   "cell_type": "code",
   "execution_count": 2,
   "id": "42f8af35",
   "metadata": {},
   "outputs": [],
   "source": [
    "def fill_missing_values(data, strategy=\"mean\"):\n",
    "    \"\"\"\n",
    "    Preenche valores ausentes em um DataFrame.\n",
    "\n",
    "    Parâmetros:\n",
    "    data (pd.DataFrame): DataFrame com possíveis valores ausentes\n",
    "    strategy (str): Estratégia para preenchimento ('mean', 'median', 'mode')\n",
    "\n",
    "    Retorna:\n",
    "    pd.DataFrame: DataFrame com valores ausentes preenchidos\n",
    "    \"\"\"\n",
    "    # TODO: Implementar preenchimento de valores ausentes\n",
    "    # Dica: Use data.fillna() com as estratégias apropriadas\n",
    "    # Para 'mean': data.mean()\n",
    "    # Para 'median': data.median()\n",
    "    # Para 'mode': data.mode().iloc[0]\n",
    "\n",
    "    result = data.copy()\n",
    "\n",
    "    if strategy == \"mean\":\n",
    "        # Preencher com a média (apenas colunas numéricas)\n",
    "        numeric_cols = result.select_dtypes(include=[np.number]).columns\n",
    "        result[numeric_cols] = result[numeric_cols].fillna(result[numeric_cols].mean())\n",
    "    elif strategy == \"median\":\n",
    "        # Preencher com a mediana (apenas colunas numéricas)\n",
    "        numeric_cols = result.select_dtypes(include=[np.number]).columns\n",
    "        result[numeric_cols] = result[numeric_cols].fillna(\n",
    "            result[numeric_cols].median()\n",
    "        )\n",
    "    elif strategy == \"mode\":\n",
    "        # Preencher com a moda (todas as colunas)\n",
    "        for col in result.columns:\n",
    "            if result[col].isnull().any():\n",
    "                mode_value = result[col].mode()\n",
    "                if len(mode_value) > 0:\n",
    "                    result[col] = result[col].fillna(mode_value.iloc[0])\n",
    "\n",
    "    return result"
   ]
  },
  {
   "cell_type": "markdown",
   "id": "92ab3b5d",
   "metadata": {},
   "source": [
    "## Exercício 2: Detecção de Outliers\n"
   ]
  },
  {
   "cell_type": "code",
   "execution_count": 3,
   "id": "16811f41",
   "metadata": {},
   "outputs": [],
   "source": [
    "def detect_outliers_iqr(data, column):\n",
    "    \"\"\"\n",
    "    Detecta outliers usando o método IQR (Interquartile Range).\n",
    "\n",
    "    Parâmetros:\n",
    "    data (pd.DataFrame): DataFrame com os dados\n",
    "    column (str): Nome da coluna para detectar outliers\n",
    "\n",
    "    Retorna:\n",
    "    pd.Series: Série booleana indicando outliers (True = outlier)\n",
    "    \"\"\"\n",
    "    # TODO: Implementar detecção de outliers usando IQR\n",
    "    # Dica:\n",
    "    # Q1 = data[column].quantile(0.25)\n",
    "    # Q3 = data[column].quantile(0.75)\n",
    "    # IQR = Q3 - Q1\n",
    "    # lower_bound = Q1 - 1.5 * IQR\n",
    "    # upper_bound = Q3 + 1.5 * IQR\n",
    "    # return (data[column] < lower_bound) | (data[column] > upper_bound)\n",
    "\n",
    "    Q1 = data[column].quantile(0.25)\n",
    "    Q3 = data[column].quantile(0.75)\n",
    "    IQR = Q3 - Q1\n",
    "\n",
    "    lower_bound = Q1 - 1.5 * IQR\n",
    "    upper_bound = Q3 + 1.5 * IQR\n",
    "\n",
    "    outliers = (data[column] < lower_bound) | (data[column] > upper_bound)\n",
    "\n",
    "    return outliers"
   ]
  },
  {
   "cell_type": "markdown",
   "id": "4416ffff",
   "metadata": {},
   "source": [
    "## Exercício 3: Normalização de Dados\n"
   ]
  },
  {
   "cell_type": "code",
   "execution_count": 4,
   "id": "a3391ef8",
   "metadata": {},
   "outputs": [],
   "source": [
    "def normalize_data(data, method=\"min_max\"):\n",
    "    \"\"\"\n",
    "    Normaliza os dados numéricos de um DataFrame.\n",
    "\n",
    "    Parâmetros:\n",
    "    data (pd.DataFrame): DataFrame com dados numéricos\n",
    "    method (str): Método de normalização ('min_max' ou 'z_score')\n",
    "\n",
    "    Retorna:\n",
    "    pd.DataFrame: DataFrame com dados normalizados\n",
    "    \"\"\"\n",
    "    # TODO: Implementar normalização\n",
    "    # Para 'min_max': (data - data.min()) / (data.max() - data.min())\n",
    "    # Para 'z_score': (data - data.mean()) / data.std()\n",
    "\n",
    "    result = data.copy()\n",
    "    numeric_cols = result.select_dtypes(include=[np.number]).columns\n",
    "\n",
    "    if method == \"min_max\":\n",
    "        # Min-Max normalization (0-1)\n",
    "        for col in numeric_cols:\n",
    "            min_val = result[col].min()\n",
    "            max_val = result[col].max()\n",
    "            if max_val != min_val:  # Evitar divisão por zero\n",
    "                result[col] = (result[col] - min_val) / (max_val - min_val)\n",
    "\n",
    "    elif method == \"z_score\":\n",
    "        # Z-score normalization (média 0, desvio 1)\n",
    "        for col in numeric_cols:\n",
    "            mean_val = result[col].mean()\n",
    "            std_val = result[col].std()\n",
    "            if std_val != 0:  # Evitar divisão por zero\n",
    "                result[col] = (result[col] - mean_val) / std_val\n",
    "\n",
    "    return result"
   ]
  },
  {
   "cell_type": "markdown",
   "id": "70d2c382",
   "metadata": {},
   "source": [
    "## Exercício 4: Divisão de Dados\n"
   ]
  },
  {
   "cell_type": "code",
   "execution_count": 5,
   "id": "dcfdd710",
   "metadata": {},
   "outputs": [],
   "source": [
    "def train_test_split_custom(X, y, test_size=0.2, random_state=42):\n",
    "    \"\"\"\n",
    "    Divide os dados em conjuntos de treino e teste.\n",
    "\n",
    "    Parâmetros:\n",
    "    X (pd.DataFrame): Features\n",
    "    y (pd.Series): Target\n",
    "    test_size (float): Proporção do conjunto de teste\n",
    "    random_state (int): Seed para reprodutibilidade\n",
    "\n",
    "    Retorna:\n",
    "    tuple: (X_train, X_test, y_train, y_test)\n",
    "    \"\"\"\n",
    "    # TODO: Implementar divisão treino/teste\n",
    "    # Dica: Use np.random.seed() e np.random.permutation() ou np.random.choice()\n",
    "\n",
    "    np.random.seed(random_state)\n",
    "\n",
    "    n_samples = len(X)\n",
    "    n_test = int(n_samples * test_size)\n",
    "\n",
    "    # Criar índices aleatórios\n",
    "    indices = np.random.permutation(n_samples)\n",
    "\n",
    "    # Dividir índices\n",
    "    test_indices = indices[:n_test]\n",
    "    train_indices = indices[n_test:]\n",
    "\n",
    "    # Dividir dados\n",
    "    X_train = X.iloc[train_indices]\n",
    "    X_test = X.iloc[test_indices]\n",
    "    y_train = y.iloc[train_indices]\n",
    "    y_test = y.iloc[test_indices]\n",
    "\n",
    "    return X_train, X_test, y_train, y_test"
   ]
  },
  {
   "cell_type": "markdown",
   "id": "c718102f",
   "metadata": {},
   "source": [
    "## Testes das Implementações\n",
    "\n",
    "Execute as células abaixo para testar suas funções:\n"
   ]
  },
  {
   "cell_type": "code",
   "execution_count": 6,
   "id": "3390385b",
   "metadata": {},
   "outputs": [
    {
     "name": "stdout",
     "output_type": "stream",
     "text": [
      "Dados originais:\n",
      "     A     B    C\n",
      "0  1.0  10.0    x\n",
      "1  2.0   NaN    y\n",
      "2  NaN  30.0  NaN\n",
      "3  4.0  40.0    x\n",
      "4  5.0  50.0    y\n",
      "\n",
      "Após preenchimento (mean):\n",
      "     A     B    C\n",
      "0  1.0  10.0    x\n",
      "1  2.0  32.5    y\n",
      "2  3.0  30.0  NaN\n",
      "3  4.0  40.0    x\n",
      "4  5.0  50.0    y\n"
     ]
    }
   ],
   "source": [
    "# Criar dados de teste\n",
    "test_data = pd.DataFrame(\n",
    "    {\n",
    "        \"A\": [1, 2, np.nan, 4, 5],\n",
    "        \"B\": [10, np.nan, 30, 40, 50],\n",
    "        \"C\": [\"x\", \"y\", np.nan, \"x\", \"y\"],\n",
    "    }\n",
    ")\n",
    "\n",
    "print(\"Dados originais:\")\n",
    "print(test_data)\n",
    "print(\"\\nApós preenchimento (mean):\")\n",
    "filled_data = fill_missing_values(test_data, \"mean\")\n",
    "print(filled_data)"
   ]
  },
  {
   "cell_type": "code",
   "execution_count": 7,
   "id": "991e4997",
   "metadata": {},
   "outputs": [
    {
     "name": "stdout",
     "output_type": "stream",
     "text": [
      "Outliers detectados:\n",
      "0    False\n",
      "1    False\n",
      "2    False\n",
      "3    False\n",
      "4    False\n",
      "5     True\n",
      "Name: values, dtype: bool\n",
      "Valores outliers: [100]\n"
     ]
    }
   ],
   "source": [
    "# Teste de detecção de outliers\n",
    "outlier_data = pd.DataFrame({\"values\": [1, 2, 3, 4, 5, 100]})  # 100 é um outlier\n",
    "\n",
    "outliers = detect_outliers_iqr(outlier_data, \"values\")\n",
    "print(\"Outliers detectados:\")\n",
    "print(outliers)\n",
    "print(\"Valores outliers:\", outlier_data[outliers][\"values\"].values)"
   ]
  },
  {
   "cell_type": "code",
   "execution_count": 8,
   "id": "b65d312d",
   "metadata": {},
   "outputs": [
    {
     "name": "stdout",
     "output_type": "stream",
     "text": [
      "Dados originais:\n",
      "   A   B\n",
      "0  1  10\n",
      "1  2  20\n",
      "2  3  30\n",
      "3  4  40\n",
      "4  5  50\n",
      "\n",
      "Normalização Min-Max:\n",
      "      A     B\n",
      "0  0.00  0.00\n",
      "1  0.25  0.25\n",
      "2  0.50  0.50\n",
      "3  0.75  0.75\n",
      "4  1.00  1.00\n",
      "\n",
      "Normalização Z-Score:\n",
      "          A         B\n",
      "0 -1.264911 -1.264911\n",
      "1 -0.632456 -0.632456\n",
      "2  0.000000  0.000000\n",
      "3  0.632456  0.632456\n",
      "4  1.264911  1.264911\n"
     ]
    }
   ],
   "source": [
    "# Teste de normalização\n",
    "norm_data = pd.DataFrame({\"A\": [1, 2, 3, 4, 5], \"B\": [10, 20, 30, 40, 50]})\n",
    "\n",
    "print(\"Dados originais:\")\n",
    "print(norm_data)\n",
    "print(\"\\nNormalização Min-Max:\")\n",
    "norm_minmax = normalize_data(norm_data, \"min_max\")\n",
    "print(norm_minmax)\n",
    "print(\"\\nNormalização Z-Score:\")\n",
    "norm_zscore = normalize_data(norm_data, \"z_score\")\n",
    "print(norm_zscore)"
   ]
  },
  {
   "cell_type": "code",
   "execution_count": 9,
   "id": "d4db93ac",
   "metadata": {},
   "outputs": [
    {
     "name": "stdout",
     "output_type": "stream",
     "text": [
      "Tamanho total: 100\n",
      "Tamanho treino: 80\n",
      "Tamanho teste: 20\n",
      "Proporção teste: 0.20\n"
     ]
    }
   ],
   "source": [
    "# Teste de divisão de dados\n",
    "X_sample = pd.DataFrame({\"feature1\": range(100), \"feature2\": range(100, 200)})\n",
    "y_sample = pd.Series(range(50, 150))\n",
    "\n",
    "X_train, X_test, y_train, y_test = train_test_split_custom(\n",
    "    X_sample, y_sample, test_size=0.2, random_state=42\n",
    ")\n",
    "\n",
    "print(f\"Tamanho total: {len(X_sample)}\")\n",
    "print(f\"Tamanho treino: {len(X_train)}\")\n",
    "print(f\"Tamanho teste: {len(X_test)}\")\n",
    "print(f\"Proporção teste: {len(X_test) / len(X_sample):.2f}\")"
   ]
  }
 ],
 "metadata": {
  "kernelspec": {
   "display_name": "ml-curso",
   "language": "python",
   "name": "python3"
  },
  "language_info": {
   "codemirror_mode": {
    "name": "ipython",
    "version": 3
   },
   "file_extension": ".py",
   "mimetype": "text/x-python",
   "name": "python",
   "nbconvert_exporter": "python",
   "pygments_lexer": "ipython3",
   "version": "3.12.9"
  }
 },
 "nbformat": 4,
 "nbformat_minor": 5
}
