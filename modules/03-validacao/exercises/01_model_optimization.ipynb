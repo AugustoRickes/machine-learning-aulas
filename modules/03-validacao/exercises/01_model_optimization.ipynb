{
 "cells": [
  {
   "cell_type": "markdown",
   "id": "0",
   "metadata": {},
   "source": [
    "# Exercício: Otimização de Modelos com Cross Validation\n",
    "\n",
    "## Objetivo\n",
    "\n",
    "Aplicar técnicas de validação cruzada e otimização de hiperparâmetros em um problema real de classificação.\n",
    "\n",
    "## Dataset\n",
    "\n",
    "Utilizaremos o dataset Wine Quality para prever a qualidade do vinho baseado em características químicas.\n",
    "\n",
    "## Tarefas\n",
    "\n",
    "1. Preparar os dados e análise exploratória\n",
    "2. Implementar validação cruzada\n",
    "3. Comparar diferentes modelos\n",
    "4. Otimizar hiperparâmetros\n",
    "5. Avaliar performance final\n"
   ]
  },
  {
   "cell_type": "code",
   "execution_count": null,
   "id": "1",
   "metadata": {},
   "outputs": [],
   "source": [
    "import numpy as np\n",
    "import pandas as pd\n",
    "import matplotlib.pyplot as plt\n",
    "import seaborn as sns\n",
    "from sklearn.datasets import load_wine\n",
    "from sklearn.model_selection import (\n",
    "    cross_val_score,\n",
    "    GridSearchCV,\n",
    "    RandomizedSearchCV,\n",
    "    train_test_split,\n",
    "    StratifiedKFold,\n",
    ")\n",
    "from sklearn.ensemble import RandomForestClassifier, GradientBoostingClassifier\n",
    "from sklearn.svm import SVC\n",
    "from sklearn.linear_model import LogisticRegression\n",
    "from sklearn.preprocessing import StandardScaler\n",
    "from sklearn.pipeline import Pipeline\n",
    "from sklearn.metrics import classification_report, confusion_matrix\n",
    "import warnings\n",
    "\n",
    "warnings.filterwarnings(\"ignore\")\n",
    "\n",
    "# Carregar dados\n",
    "wine = load_wine()\n",
    "X, y = wine.data, wine.target\n",
    "feature_names = wine.feature_names\n",
    "target_names = wine.target_names\n",
    "\n",
    "print(f\"Shape dos dados: {X.shape}\")\n",
    "print(f\"Classes: {target_names}\")\n",
    "print(f\"Distribuição das classes: {np.bincount(y)}\")"
   ]
  },
  {
   "cell_type": "markdown",
   "id": "2",
   "metadata": {},
   "source": [
    "## Tarefa 1: Análise Exploratória e Preparação dos Dados\n"
   ]
  },
  {
   "cell_type": "code",
   "execution_count": null,
   "id": "3",
   "metadata": {},
   "outputs": [],
   "source": [
    "# TODO: Criar DataFrame com os dados\n",
    "df = None  # Criar DataFrame com X e y\n",
    "\n",
    "# TODO: Exibir informações básicas do dataset\n",
    "# - Primeiras linhas\n",
    "# - Estatísticas descritivas\n",
    "# - Verificar valores nulos\n",
    "\n",
    "# TODO: Visualizar distribuição das classes\n",
    "# Criar gráfico de barras mostrando a contagem de cada classe\n",
    "\n",
    "# TODO: Dividir dados em treino e teste (70-30)\n",
    "# Usar stratify para manter proporção das classes\n",
    "X_train, X_test, y_train, y_test = None, None, None, None"
   ]
  },
  {
   "cell_type": "markdown",
   "id": "4",
   "metadata": {},
   "source": [
    "## Tarefa 2: Implementar Validação Cruzada Manual\n"
   ]
  },
  {
   "cell_type": "code",
   "execution_count": null,
   "id": "5",
   "metadata": {},
   "outputs": [],
   "source": [
    "# TODO: Implementar função de validação cruzada estratificada manual\n",
    "def stratified_cv_manual(X, y, model, k=5):\n",
    "    \"\"\"\n",
    "    Implementa Stratified K-Fold Cross Validation manualmente\n",
    "\n",
    "    Parâmetros:\n",
    "    - X: features\n",
    "    - y: target\n",
    "    - model: modelo a ser avaliado\n",
    "    - k: número de folds\n",
    "\n",
    "    Retorna:\n",
    "    - lista com scores de cada fold\n",
    "    \"\"\"\n",
    "    # TODO: Implementar a lógica\n",
    "    # 1. Criar índices estratificados para cada fold\n",
    "    # 2. Para cada fold, treinar modelo e calcular score\n",
    "    # 3. Retornar lista de scores\n",
    "\n",
    "    scores = []\n",
    "    # Sua implementação aqui\n",
    "\n",
    "    return scores\n",
    "\n",
    "\n",
    "# TODO: Testar a implementação manual\n",
    "model = LogisticRegression(random_state=42, max_iter=1000)\n",
    "manual_scores = stratified_cv_manual(X_train, y_train, model, k=5)\n",
    "print(f\"Scores manuais: {manual_scores}\")\n",
    "print(f\"Média: {np.mean(manual_scores):.3f} ± {np.std(manual_scores):.3f}\")"
   ]
  },
  {
   "cell_type": "markdown",
   "id": "6",
   "metadata": {},
   "source": [
    "## Tarefa 3: Comparar Diferentes Modelos\n"
   ]
  },
  {
   "cell_type": "code",
   "execution_count": null,
   "id": "7",
   "metadata": {},
   "outputs": [],
   "source": [
    "# TODO: Definir dicionário com diferentes modelos\n",
    "models = {\n",
    "    # TODO: Adicionar pelo menos 4 modelos diferentes:\n",
    "    # - Logistic Regression\n",
    "    # - Random Forest\n",
    "    # - SVM\n",
    "    # - Gradient Boosting\n",
    "}\n",
    "\n",
    "# TODO: Avaliar cada modelo com cross validation\n",
    "cv_results = {}\n",
    "for name, model in models.items():\n",
    "    # TODO: Usar cross_val_score com StratifiedKFold\n",
    "    # Usar 5 folds e scoring='accuracy'\n",
    "    scores = None\n",
    "    cv_results[name] = scores\n",
    "    print(f\"{name:20}: {scores.mean():.3f} ± {scores.std():.3f}\")\n",
    "\n",
    "# TODO: Criar boxplot comparando os modelos\n",
    "plt.figure(figsize=(12, 6))\n",
    "# Plotar boxplot dos resultados de CV\n",
    "plt.show()"
   ]
  },
  {
   "cell_type": "markdown",
   "id": "8",
   "metadata": {},
   "source": [
    "## Tarefa 4: Otimização de Hiperparâmetros\n"
   ]
  },
  {
   "cell_type": "code",
   "execution_count": null,
   "id": "9",
   "metadata": {},
   "outputs": [],
   "source": [
    "# TODO: Otimizar Random Forest com Grid Search\n",
    "rf_param_grid = {\n",
    "    # TODO: Definir grid de parâmetros para Random Forest\n",
    "    # Incluir: n_estimators, max_depth, min_samples_split, min_samples_leaf\n",
    "}\n",
    "\n",
    "# TODO: Implementar Grid Search\n",
    "rf_grid = GridSearchCV(\n",
    "    # TODO: Configurar Grid Search\n",
    "    # - modelo: RandomForestClassifier\n",
    "    # - param_grid: rf_param_grid\n",
    "    # - cv: 5\n",
    "    # - scoring: 'accuracy'\n",
    ")\n",
    "\n",
    "# TODO: Treinar Grid Search\n",
    "# rf_grid.fit(...)\n",
    "\n",
    "print(f\"Melhores parâmetros RF: {rf_grid.best_params_}\")\n",
    "print(f\"Melhor score RF: {rf_grid.best_score_:.3f}\")"
   ]
  },
  {
   "cell_type": "code",
   "execution_count": null,
   "id": "10",
   "metadata": {},
   "outputs": [],
   "source": [
    "# TODO: Otimizar SVM com Random Search\n",
    "from scipy.stats import uniform, loguniform\n",
    "\n",
    "svm_param_dist = {\n",
    "    # TODO: Definir distribuições para Random Search do SVM\n",
    "    # Incluir: C (distribuição log-uniforme), gamma, kernel\n",
    "}\n",
    "\n",
    "# TODO: Implementar Random Search\n",
    "svm_random = RandomizedSearchCV(\n",
    "    # TODO: Configurar Random Search\n",
    "    # - modelo: SVC\n",
    "    # - param_distributions: svm_param_dist\n",
    "    # - n_iter: 50\n",
    "    # - cv: 5\n",
    "    # - scoring: 'accuracy'\n",
    ")\n",
    "\n",
    "# TODO: Treinar Random Search\n",
    "# svm_random.fit(...)\n",
    "\n",
    "print(f\"Melhores parâmetros SVM: {svm_random.best_params_}\")\n",
    "print(f\"Melhor score SVM: {svm_random.best_score_:.3f}\")"
   ]
  },
  {
   "cell_type": "markdown",
   "id": "11",
   "metadata": {},
   "source": [
    "## Tarefa 5: Pipeline com Pré-processamento\n"
   ]
  },
  {
   "cell_type": "code",
   "execution_count": null,
   "id": "12",
   "metadata": {},
   "outputs": [],
   "source": [
    "# TODO: Criar pipeline com normalização + SVM\n",
    "pipe = Pipeline(\n",
    "    [\n",
    "        # TODO: Adicionar etapas do pipeline\n",
    "        # 1. StandardScaler\n",
    "        # 2. SVC\n",
    "    ]\n",
    ")\n",
    "\n",
    "# TODO: Definir parâmetros para o pipeline\n",
    "pipe_param_grid = {\n",
    "    # TODO: Parâmetros do SVM no pipeline\n",
    "    # Use notação 'nome_etapa__parametro'\n",
    "}\n",
    "\n",
    "# TODO: Grid Search no pipeline\n",
    "pipe_grid = GridSearchCV(\n",
    "    # TODO: Configurar Grid Search para o pipeline\n",
    ")\n",
    "\n",
    "# TODO: Treinar pipeline\n",
    "# pipe_grid.fit(...)\n",
    "\n",
    "print(f\"Melhores parâmetros Pipeline: {pipe_grid.best_params_}\")\n",
    "print(f\"Melhor score Pipeline: {pipe_grid.best_score_:.3f}\")"
   ]
  },
  {
   "cell_type": "markdown",
   "id": "13",
   "metadata": {},
   "source": [
    "## Tarefa 6: Avaliação Final\n"
   ]
  },
  {
   "cell_type": "code",
   "execution_count": null,
   "id": "14",
   "metadata": {},
   "outputs": [],
   "source": [
    "# TODO: Comparar todos os modelos otimizados\n",
    "final_models = {\n",
    "    \"RF Baseline\": RandomForestClassifier(random_state=42),\n",
    "    \"RF Otimizado\": rf_grid.best_estimator_,\n",
    "    \"SVM Baseline\": SVC(random_state=42),\n",
    "    \"SVM Otimizado\": svm_random.best_estimator_,\n",
    "    \"Pipeline SVM\": pipe_grid.best_estimator_,\n",
    "}\n",
    "\n",
    "# TODO: Avaliar cada modelo no conjunto de teste\n",
    "test_scores = {}\n",
    "for name, model in final_models.items():\n",
    "    # TODO: Treinar modelo e avaliar no teste\n",
    "    # model.fit(...)\n",
    "    # score = model.score(...)\n",
    "    score = None\n",
    "    test_scores[name] = score\n",
    "    print(f\"{name:15}: {score:.3f}\")\n",
    "\n",
    "# TODO: Visualizar comparação final\n",
    "plt.figure(figsize=(10, 6))\n",
    "# Criar gráfico de barras com os scores finais\n",
    "plt.show()"
   ]
  },
  {
   "cell_type": "code",
   "execution_count": null,
   "id": "15",
   "metadata": {},
   "outputs": [],
   "source": [
    "# TODO: Análise detalhada do melhor modelo\n",
    "# Escolher o modelo com melhor performance\n",
    "best_model = None  # Escolher o melhor modelo baseado nos resultados\n",
    "\n",
    "# TODO: Treinar melhor modelo e fazer predições\n",
    "# best_model.fit(...)\n",
    "# y_pred = best_model.predict(...)\n",
    "\n",
    "# TODO: Gerar relatório de classificação\n",
    "# print(classification_report(...))\n",
    "\n",
    "# TODO: Plotar matriz de confusão\n",
    "# cm = confusion_matrix(...)\n",
    "# plt.figure(figsize=(8, 6))\n",
    "# sns.heatmap(cm, annot=True, fmt='d', cmap='Blues')\n",
    "# plt.show()"
   ]
  },
  {
   "cell_type": "markdown",
   "id": "16",
   "metadata": {},
   "source": [
    "## Tarefa 7: Análise de Resultados\n"
   ]
  },
  {
   "cell_type": "code",
   "execution_count": null,
   "id": "17",
   "metadata": {},
   "outputs": [],
   "source": [
    "# TODO: Responder às seguintes perguntas:\n",
    "\n",
    "print(\"=== ANÁLISE DE RESULTADOS ===\")\n",
    "print(\"\\n1. Qual modelo teve melhor performance?\")\n",
    "# TODO: Sua resposta aqui\n",
    "\n",
    "print(\"\\n2. A otimização de hiperparâmetros trouxe ganhos significativos?\")\n",
    "# TODO: Comparar baseline vs otimizado\n",
    "\n",
    "print(\"\\n3. O pré-processamento (normalização) foi importante?\")\n",
    "# TODO: Comparar SVM com e sem pipeline\n",
    "\n",
    "print(\"\\n4. Qual foi o impacto da validação cruzada estratificada?\")\n",
    "# TODO: Discutir importância para dataset desbalanceado\n",
    "\n",
    "print(\"\\n5. Que melhorias você sugere para próximas iterações?\")\n",
    "# TODO: Suas sugestões aqui"
   ]
  },
  {
   "cell_type": "markdown",
   "id": "18",
   "metadata": {},
   "source": [
    "## Desafio Extra: Nested Cross Validation\n"
   ]
  },
  {
   "cell_type": "code",
   "execution_count": null,
   "id": "19",
   "metadata": {},
   "outputs": [],
   "source": [
    "# TODO: DESAFIO - Implementar Nested Cross Validation\n",
    "# Para obter estimativa não-viesada da performance\n",
    "\n",
    "\n",
    "def nested_cv_score(model, param_grid, X, y, outer_cv=5, inner_cv=3):\n",
    "    \"\"\"\n",
    "    Implementa Nested Cross Validation\n",
    "\n",
    "    Retorna:\n",
    "    - Lista com scores do CV externo\n",
    "    \"\"\"\n",
    "    # TODO: Implementar nested CV\n",
    "    # 1. Loop externo: dividir dados em treino/teste\n",
    "    # 2. Loop interno: otimizar hiperparâmetros no treino\n",
    "    # 3. Avaliar melhor modelo no teste do loop externo\n",
    "\n",
    "    outer_scores = []\n",
    "    # Sua implementação aqui\n",
    "\n",
    "    return outer_scores\n",
    "\n",
    "\n",
    "# TODO: Testar nested CV com Random Forest\n",
    "# nested_scores = nested_cv_score(...)\n",
    "# print(f\"Nested CV Score: {np.mean(nested_scores):.3f} ± {np.std(nested_scores):.3f}\")"
   ]
  }
 ],
 "metadata": {
  "language_info": {
   "name": "python"
  }
 },
 "nbformat": 4,
 "nbformat_minor": 5
}
