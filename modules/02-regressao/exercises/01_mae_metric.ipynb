{
 "cells": [
  {
   "cell_type": "markdown",
   "id": "d64e2122",
   "metadata": {},
   "source": [
    "# Exercício: Implementando Métricas de Regressão\n",
    "\n",
    "## Objetivo\n",
    "\n",
    "Implementar métricas fundamentais de avaliação para modelos de regressão.\n",
    "\n",
    "## Instruções\n",
    "\n",
    "- Complete as funções nas células marcadas com `# TODO`\n",
    "- Mantenha a assinatura das funções\n",
    "- Use apenas numpy e pandas\n",
    "- Execute as células de teste para verificar sua implementação\n"
   ]
  },
  {
   "cell_type": "code",
   "execution_count": null,
   "id": "6685ae10",
   "metadata": {},
   "outputs": [],
   "source": [
    "# Importações permitidas\n",
    "import numpy as np\n",
    "import pandas as pd\n",
    "\n",
    "# Configurar seed\n",
    "np.random.seed(42)"
   ]
  },
  {
   "cell_type": "markdown",
   "id": "311ba356",
   "metadata": {},
   "source": [
    "## Exercício 1: Mean Absolute Error (MAE)\n"
   ]
  },
  {
   "cell_type": "code",
   "execution_count": null,
   "id": "1107de66",
   "metadata": {},
   "outputs": [],
   "source": [
    "def mean_absolute_error(y_true, y_pred):\n",
    "    \"\"\"\n",
    "    Calcula o Mean Absolute Error entre valores reais e preditos.\n",
    "\n",
    "    Parâmetros:\n",
    "    y_true (array-like): Valores reais\n",
    "    y_pred (array-like): Valores preditos\n",
    "\n",
    "    Retorna:\n",
    "    float: MAE calculado\n",
    "    \"\"\"\n",
    "    # TODO: Implementar cálculo do MAE\n",
    "    # MAE = (1/n) * Σ|y_true - y_pred|\n",
    "\n",
    "    y_true = np.array(y_true)\n",
    "    y_pred = np.array(y_pred)\n",
    "\n",
    "    # Calcular diferenças absolutas\n",
    "    absolute_errors = np.abs(y_true - y_pred)\n",
    "\n",
    "    # Retornar média\n",
    "    return np.mean(absolute_errors)"
   ]
  },
  {
   "cell_type": "markdown",
   "id": "69166ae0",
   "metadata": {},
   "source": [
    "## Exercício 2: Mean Squared Error (MSE)\n"
   ]
  },
  {
   "cell_type": "code",
   "execution_count": null,
   "id": "68970847",
   "metadata": {},
   "outputs": [],
   "source": [
    "def mean_squared_error(y_true, y_pred):\n",
    "    \"\"\"\n",
    "    Calcula o Mean Squared Error entre valores reais e preditos.\n",
    "\n",
    "    Parâmetros:\n",
    "    y_true (array-like): Valores reais\n",
    "    y_pred (array-like): Valores preditos\n",
    "\n",
    "    Retorna:\n",
    "    float: MSE calculado\n",
    "    \"\"\"\n",
    "    # TODO: Implementar cálculo do MSE\n",
    "    # MSE = (1/n) * Σ(y_true - y_pred)²\n",
    "\n",
    "    y_true = np.array(y_true)\n",
    "    y_pred = np.array(y_pred)\n",
    "\n",
    "    # Calcular diferenças ao quadrado\n",
    "    squared_errors = (y_true - y_pred) ** 2\n",
    "\n",
    "    # Retornar média\n",
    "    return np.mean(squared_errors)"
   ]
  },
  {
   "cell_type": "markdown",
   "id": "df326611",
   "metadata": {},
   "source": [
    "## Exercício 3: Root Mean Squared Error (RMSE)\n"
   ]
  },
  {
   "cell_type": "code",
   "execution_count": null,
   "id": "edbf3f86",
   "metadata": {},
   "outputs": [],
   "source": [
    "def root_mean_squared_error(y_true, y_pred):\n",
    "    \"\"\"\n",
    "    Calcula o Root Mean Squared Error entre valores reais e preditos.\n",
    "\n",
    "    Parâmetros:\n",
    "    y_true (array-like): Valores reais\n",
    "    y_pred (array-like): Valores preditos\n",
    "\n",
    "    Retorna:\n",
    "    float: RMSE calculado\n",
    "    \"\"\"\n",
    "    # TODO: Implementar cálculo do RMSE\n",
    "    # RMSE = √MSE\n",
    "    # Dica: Use a função mean_squared_error implementada acima\n",
    "\n",
    "    mse = mean_squared_error(y_true, y_pred)\n",
    "    return np.sqrt(mse)"
   ]
  },
  {
   "cell_type": "markdown",
   "id": "24e47000",
   "metadata": {},
   "source": [
    "## Exercício 4: R² Score (Coeficiente de Determinação)\n"
   ]
  },
  {
   "cell_type": "code",
   "execution_count": null,
   "id": "42cb4780",
   "metadata": {},
   "outputs": [],
   "source": [
    "def r2_score(y_true, y_pred):\n",
    "    \"\"\"\n",
    "    Calcula o R² Score entre valores reais e preditos.\n",
    "\n",
    "    Parâmetros:\n",
    "    y_true (array-like): Valores reais\n",
    "    y_pred (array-like): Valores preditos\n",
    "\n",
    "    Retorna:\n",
    "    float: R² calculado\n",
    "    \"\"\"\n",
    "    # TODO: Implementar cálculo do R²\n",
    "    # R² = 1 - (SS_res / SS_tot)\n",
    "    # SS_res = Σ(y_true - y_pred)²\n",
    "    # SS_tot = Σ(y_true - mean(y_true))²\n",
    "\n",
    "    y_true = np.array(y_true)\n",
    "    y_pred = np.array(y_pred)\n",
    "\n",
    "    # Soma dos quadrados dos resíduos\n",
    "    ss_res = np.sum((y_true - y_pred) ** 2)\n",
    "\n",
    "    # Soma total dos quadrados\n",
    "    ss_tot = np.sum((y_true - np.mean(y_true)) ** 2)\n",
    "\n",
    "    # Evitar divisão por zero\n",
    "    if ss_tot == 0:\n",
    "        return 1.0 if ss_res == 0 else 0.0\n",
    "\n",
    "    return 1 - (ss_res / ss_tot)"
   ]
  },
  {
   "cell_type": "markdown",
   "id": "6067e160",
   "metadata": {},
   "source": [
    "## Exercício 5: Função de Avaliação Completa\n"
   ]
  },
  {
   "cell_type": "code",
   "execution_count": null,
   "id": "cb28d3b9",
   "metadata": {},
   "outputs": [],
   "source": [
    "def evaluate_regression(y_true, y_pred):\n",
    "    \"\"\"\n",
    "    Calcula todas as métricas de regressão.\n",
    "\n",
    "    Parâmetros:\n",
    "    y_true (array-like): Valores reais\n",
    "    y_pred (array-like): Valores preditos\n",
    "\n",
    "    Retorna:\n",
    "    dict: Dicionário com todas as métricas\n",
    "    \"\"\"\n",
    "    # TODO: Implementar função que retorna todas as métricas\n",
    "    # Retornar dicionário com chaves: 'mae', 'mse', 'rmse', 'r2'\n",
    "\n",
    "    return {\n",
    "        \"mae\": mean_absolute_error(y_true, y_pred),\n",
    "        \"mse\": mean_squared_error(y_true, y_pred),\n",
    "        \"rmse\": root_mean_squared_error(y_true, y_pred),\n",
    "        \"r2\": r2_score(y_true, y_pred),\n",
    "    }"
   ]
  },
  {
   "cell_type": "markdown",
   "id": "4232e2fe",
   "metadata": {},
   "source": [
    "## Testes das Implementações\n"
   ]
  },
  {
   "cell_type": "code",
   "execution_count": null,
   "id": "9e57c36e",
   "metadata": {},
   "outputs": [],
   "source": [
    "# Teste básico\n",
    "y_true = [1, 2, 3, 4, 5]\n",
    "y_pred = [1, 2, 3, 4, 5]\n",
    "\n",
    "print(\"Teste com previsões perfeitas:\")\n",
    "print(f\"MAE: {mean_absolute_error(y_true, y_pred)}\")\n",
    "print(f\"MSE: {mean_squared_error(y_true, y_pred)}\")\n",
    "print(f\"RMSE: {root_mean_squared_error(y_true, y_pred)}\")\n",
    "print(f\"R²: {r2_score(y_true, y_pred)}\")"
   ]
  },
  {
   "cell_type": "code",
   "execution_count": null,
   "id": "ab5350e0",
   "metadata": {},
   "outputs": [],
   "source": [
    "# Teste com erro\n",
    "y_true = [1, 2, 3, 4, 5]\n",
    "y_pred = [1.1, 1.9, 3.1, 3.9, 5.1]\n",
    "\n",
    "print(\"\\nTeste com pequenos erros:\")\n",
    "metrics = evaluate_regression(y_true, y_pred)\n",
    "for metric, value in metrics.items():\n",
    "    print(f\"{metric.upper()}: {value:.4f}\")"
   ]
  },
  {
   "cell_type": "markdown",
   "id": "7b733efd",
   "metadata": {},
   "source": [
    "# Exercício: Implementando Métricas de Regressão\n",
    "\n",
    "## Objetivo\n",
    "\n",
    "Implementar métricas fundamentais de avaliação para modelos de regressão.\n",
    "\n",
    "## Instruções\n",
    "\n",
    "- Complete as funções nas células marcadas com `# TODO`\n",
    "- Mantenha a assinatura das funções\n",
    "- Use apenas numpy e pandas\n",
    "- Execute as células de teste para verificar sua implementação\n"
   ]
  },
  {
   "cell_type": "code",
   "execution_count": null,
   "id": "50751149",
   "metadata": {},
   "outputs": [],
   "source": [
    "# Importações permitidas\n",
    "import numpy as np\n",
    "import pandas as pd\n",
    "\n",
    "# Configurar seed\n",
    "np.random.seed(42)"
   ]
  },
  {
   "cell_type": "markdown",
   "id": "30aa1330",
   "metadata": {},
   "source": [
    "## Exercício 1: Mean Absolute Error (MAE)\n"
   ]
  },
  {
   "cell_type": "code",
   "execution_count": null,
   "id": "b3270ec4",
   "metadata": {},
   "outputs": [],
   "source": [
    "def mean_absolute_error(y_true, y_pred):\n",
    "    \"\"\"\n",
    "    Calcula o Mean Absolute Error entre valores reais e preditos.\n",
    "\n",
    "    Parâmetros:\n",
    "    y_true (array-like): Valores reais\n",
    "    y_pred (array-like): Valores preditos\n",
    "\n",
    "    Retorna:\n",
    "    float: MAE calculado\n",
    "    \"\"\"\n",
    "    # TODO: Implementar cálculo do MAE\n",
    "    # MAE = (1/n) * Σ|y_true - y_pred|\n",
    "\n",
    "    y_true = np.array(y_true)\n",
    "    y_pred = np.array(y_pred)\n",
    "\n",
    "    # Calcular diferenças absolutas\n",
    "    absolute_errors = np.abs(y_true - y_pred)\n",
    "\n",
    "    # Retornar média\n",
    "    return np.mean(absolute_errors)"
   ]
  },
  {
   "cell_type": "markdown",
   "id": "6ef9f0ee",
   "metadata": {},
   "source": [
    "## Exercício 2: Mean Squared Error (MSE)\n"
   ]
  },
  {
   "cell_type": "code",
   "execution_count": null,
   "id": "3d538613",
   "metadata": {},
   "outputs": [],
   "source": [
    "def mean_squared_error(y_true, y_pred):\n",
    "    \"\"\"\n",
    "    Calcula o Mean Squared Error entre valores reais e preditos.\n",
    "\n",
    "    Parâmetros:\n",
    "    y_true (array-like): Valores reais\n",
    "    y_pred (array-like): Valores preditos\n",
    "\n",
    "    Retorna:\n",
    "    float: MSE calculado\n",
    "    \"\"\"\n",
    "    # TODO: Implementar cálculo do MSE\n",
    "    # MSE = (1/n) * Σ(y_true - y_pred)²\n",
    "\n",
    "    y_true = np.array(y_true)\n",
    "    y_pred = np.array(y_pred)\n",
    "\n",
    "    # Calcular diferenças ao quadrado\n",
    "    squared_errors = (y_true - y_pred) ** 2\n",
    "\n",
    "    # Retornar média\n",
    "    return np.mean(squared_errors)"
   ]
  },
  {
   "cell_type": "markdown",
   "id": "d85405be",
   "metadata": {},
   "source": [
    "## Exercício 3: Root Mean Squared Error (RMSE)\n"
   ]
  },
  {
   "cell_type": "code",
   "execution_count": null,
   "id": "4e0381d2",
   "metadata": {},
   "outputs": [],
   "source": [
    "def root_mean_squared_error(y_true, y_pred):\n",
    "    \"\"\"\n",
    "    Calcula o Root Mean Squared Error entre valores reais e preditos.\n",
    "\n",
    "    Parâmetros:\n",
    "    y_true (array-like): Valores reais\n",
    "    y_pred (array-like): Valores preditos\n",
    "\n",
    "    Retorna:\n",
    "    float: RMSE calculado\n",
    "    \"\"\"\n",
    "    # TODO: Implementar cálculo do RMSE\n",
    "    # RMSE = √MSE\n",
    "    # Dica: Use a função mean_squared_error implementada acima\n",
    "\n",
    "    mse = mean_squared_error(y_true, y_pred)\n",
    "    return np.sqrt(mse)"
   ]
  },
  {
   "cell_type": "markdown",
   "id": "aeb8fd6f",
   "metadata": {},
   "source": [
    "## Exercício 4: R² Score (Coeficiente de Determinação)\n"
   ]
  },
  {
   "cell_type": "code",
   "execution_count": null,
   "id": "7bdc93a7",
   "metadata": {},
   "outputs": [],
   "source": [
    "def r2_score(y_true, y_pred):\n",
    "    \"\"\"\n",
    "    Calcula o R² Score entre valores reais e preditos.\n",
    "\n",
    "    Parâmetros:\n",
    "    y_true (array-like): Valores reais\n",
    "    y_pred (array-like): Valores preditos\n",
    "\n",
    "    Retorna:\n",
    "    float: R² calculado\n",
    "    \"\"\"\n",
    "    # TODO: Implementar cálculo do R²\n",
    "    # R² = 1 - (SS_res / SS_tot)\n",
    "    # SS_res = Σ(y_true - y_pred)²\n",
    "    # SS_tot = Σ(y_true - mean(y_true))²\n",
    "\n",
    "    y_true = np.array(y_true)\n",
    "    y_pred = np.array(y_pred)\n",
    "\n",
    "    # Soma dos quadrados dos resíduos\n",
    "    ss_res = np.sum((y_true - y_pred) ** 2)\n",
    "\n",
    "    # Soma total dos quadrados\n",
    "    ss_tot = np.sum((y_true - np.mean(y_true)) ** 2)\n",
    "\n",
    "    # Evitar divisão por zero\n",
    "    if ss_tot == 0:\n",
    "        return 1.0 if ss_res == 0 else 0.0\n",
    "\n",
    "    return 1 - (ss_res / ss_tot)"
   ]
  },
  {
   "cell_type": "markdown",
   "id": "e6f4bcd7",
   "metadata": {},
   "source": [
    "## Exercício 5: Função de Avaliação Completa\n"
   ]
  },
  {
   "cell_type": "code",
   "execution_count": null,
   "id": "3256a10a",
   "metadata": {},
   "outputs": [],
   "source": [
    "def evaluate_regression(y_true, y_pred):\n",
    "    \"\"\"\n",
    "    Calcula todas as métricas de regressão.\n",
    "\n",
    "    Parâmetros:\n",
    "    y_true (array-like): Valores reais\n",
    "    y_pred (array-like): Valores preditos\n",
    "\n",
    "    Retorna:\n",
    "    dict: Dicionário com todas as métricas\n",
    "    \"\"\"\n",
    "    # TODO: Implementar função que retorna todas as métricas\n",
    "    # Retornar dicionário com chaves: 'mae', 'mse', 'rmse', 'r2'\n",
    "\n",
    "    return {\n",
    "        \"mae\": mean_absolute_error(y_true, y_pred),\n",
    "        \"mse\": mean_squared_error(y_true, y_pred),\n",
    "        \"rmse\": root_mean_squared_error(y_true, y_pred),\n",
    "        \"r2\": r2_score(y_true, y_pred),\n",
    "    }"
   ]
  },
  {
   "cell_type": "markdown",
   "id": "81fce036",
   "metadata": {},
   "source": [
    "## Testes das Implementações\n"
   ]
  },
  {
   "cell_type": "code",
   "execution_count": null,
   "id": "df23cf0c",
   "metadata": {},
   "outputs": [],
   "source": [
    "# Teste básico\n",
    "y_true = [1, 2, 3, 4, 5]\n",
    "y_pred = [1, 2, 3, 4, 5]\n",
    "\n",
    "print(\"Teste com previsões perfeitas:\")\n",
    "print(f\"MAE: {mean_absolute_error(y_true, y_pred)}\")\n",
    "print(f\"MSE: {mean_squared_error(y_true, y_pred)}\")\n",
    "print(f\"RMSE: {root_mean_squared_error(y_true, y_pred)}\")\n",
    "print(f\"R²: {r2_score(y_true, y_pred)}\")"
   ]
  },
  {
   "cell_type": "code",
   "execution_count": null,
   "id": "5cee66ff",
   "metadata": {},
   "outputs": [],
   "source": [
    "# Teste com erro\n",
    "y_true = [1, 2, 3, 4, 5]\n",
    "y_pred = [1.1, 1.9, 3.1, 3.9, 5.1]\n",
    "\n",
    "print(\"\\nTeste com pequenos erros:\")\n",
    "metrics = evaluate_regression(y_true, y_pred)\n",
    "for metric, value in metrics.items():\n",
    "    print(f\"{metric.upper()}: {value:.4f}\")"
   ]
  }
 ],
 "metadata": {
  "language_info": {
   "name": "python"
  }
 },
 "nbformat": 4,
 "nbformat_minor": 5
}
