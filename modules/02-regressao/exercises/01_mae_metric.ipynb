{
  "cells": [
    {
      "cell_type": "markdown",
      "id": "d8a88e1e",
      "metadata": {},
      "source": [
        "# Exercício: Implementando Métricas de Regressão\n",
        "\n",
        "## Objetivo\n",
        "\n",
        "Implementar métricas fundamentais de avaliação para modelos de regressão.\n",
        "\n",
        "## Instruções\n",
        "\n",
        "- Complete as funções nas células marcadas com `# TODO`\n",
        "- Mantenha a assinatura das funções\n",
        "- Use apenas numpy e pandas\n",
        "- Execute as células de teste para verificar sua implementação\n"
      ]
    },
    {
      "cell_type": "code",
      "execution_count": 1,
      "id": "f50db1d8",
      "metadata": {},
      "outputs": [],
      "source": [
        "# Importações permitidas\n",
        "import numpy as np\n",
        "import pandas as pd\n",
        "\n",
        "# Configurar seed\n",
        "np.random.seed(42)"
      ]
    },
    {
      "cell_type": "markdown",
      "id": "85d66244",
      "metadata": {},
      "source": [
        "## Exercício 1: Mean Absolute Error (MAE)\n"
      ]
    },
    {
      "cell_type": "code",
      "execution_count": 2,
      "id": "cd7f1b31",
      "metadata": {},
      "outputs": [],
      "source": [
        "def mean_absolute_error(y_true, y_pred):\n",
        "    \"\"\"\n",
        "    Calcula o Mean Absolute Error entre valores reais e preditos.\n",
        "\n",
        "    Parâmetros:\n",
        "    y_true (array-like): Valores reais\n",
        "    y_pred (array-like): Valores preditos\n",
        "\n",
        "    Retorna:\n",
        "    float: MAE calculado\n",
        "    \"\"\"\n",
        "    # TODO: Implementar cálculo do MAE\n",
        "    # MAE = (1/n) * Σ|y_true - y_pred|\n",
        "\n",
        "    # Converter para arrays numpy\n",
        "    y_true = np.array(y_true)\n",
        "    y_pred = np.array(y_pred)\n",
        "\n",
        "    # Seu código aqui\n",
        "    pass"
      ]
    },
    {
      "cell_type": "markdown",
      "id": "d7af6166",
      "metadata": {},
      "source": [
        "## Exercício 2: Mean Squared Error (MSE)\n"
      ]
    },
    {
      "cell_type": "code",
      "execution_count": 3,
      "id": "a5ad2667",
      "metadata": {},
      "outputs": [],
      "source": [
        "def mean_squared_error(y_true, y_pred):\n",
        "    \"\"\"\n",
        "    Calcula o Mean Squared Error entre valores reais e preditos.\n",
        "\n",
        "    Parâmetros:\n",
        "    y_true (array-like): Valores reais\n",
        "    y_pred (array-like): Valores preditos\n",
        "\n",
        "    Retorna:\n",
        "    float: MSE calculado\n",
        "    \"\"\"\n",
        "    # TODO: Implementar cálculo do MSE\n",
        "    # MSE = (1/n) * Σ(y_true - y_pred)²\n",
        "\n",
        "    # Converter para arrays numpy\n",
        "    y_true = np.array(y_true)\n",
        "    y_pred = np.array(y_pred)\n",
        "\n",
        "    # Seu código aqui\n",
        "    pass"
      ]
    },
    {
      "cell_type": "markdown",
      "id": "69a3ed25",
      "metadata": {},
      "source": [
        "## Exercício 3: Root Mean Squared Error (RMSE)\n"
      ]
    },
    {
      "cell_type": "code",
      "execution_count": 4,
      "id": "56989ee2",
      "metadata": {},
      "outputs": [],
      "source": [
        "def root_mean_squared_error(y_true, y_pred):\n",
        "    \"\"\"\n",
        "    Calcula o Root Mean Squared Error entre valores reais e preditos.\n",
        "\n",
        "    Parâmetros:\n",
        "    y_true (array-like): Valores reais\n",
        "    y_pred (array-like): Valores preditos\n",
        "\n",
        "    Retorna:\n",
        "    float: RMSE calculado\n",
        "    \"\"\"\n",
        "    # TODO: Implementar cálculo do RMSE\n",
        "    # RMSE = √MSE\n",
        "    # Dica: Use a função mean_squared_error implementada acima\n",
        "\n",
        "    # Seu código aqui\n",
        "    pass"
      ]
    },
    {
      "cell_type": "markdown",
      "id": "e8a5272c",
      "metadata": {},
      "source": [
        "## Exercício 4: R² Score (Coeficiente de Determinação)\n"
      ]
    },
    {
      "cell_type": "code",
      "execution_count": 5,
      "id": "71d987cf",
      "metadata": {},
      "outputs": [],
      "source": [
        "def r2_score(y_true, y_pred):\n",
        "    \"\"\"\n",
        "    Calcula o R² Score entre valores reais e preditos.\n",
        "\n",
        "    Parâmetros:\n",
        "    y_true (array-like): Valores reais\n",
        "    y_pred (array-like): Valores preditos\n",
        "\n",
        "    Retorna:\n",
        "    float: R² calculado\n",
        "    \"\"\"\n",
        "    # TODO: Implementar cálculo do R²\n",
        "    # R² = 1 - (SS_res / SS_tot)\n",
        "    # SS_res = Σ(y_true - y_pred)²\n",
        "    # SS_tot = Σ(y_true - mean(y_true))²\n",
        "\n",
        "    # Converter para arrays numpy\n",
        "    y_true = np.array(y_true)\n",
        "    y_pred = np.array(y_pred)\n",
        "\n",
        "    # Seu código aqui\n",
        "    pass"
      ]
    },
    {
      "cell_type": "markdown",
      "id": "35e3eb34",
      "metadata": {},
      "source": [
        "## Exercício 5: Função de Avaliação Completa\n"
      ]
    },
    {
      "cell_type": "code",
      "execution_count": 6,
      "id": "c3ea3ef1",
      "metadata": {},
      "outputs": [],
      "source": [
        "def evaluate_regression(y_true, y_pred):\n",
        "    \"\"\"\n",
        "    Calcula todas as métricas de regressão.\n",
        "\n",
        "    Parâmetros:\n",
        "    y_true (array-like): Valores reais\n",
        "    y_pred (array-like): Valores preditos\n",
        "\n",
        "    Retorna:\n",
        "    dict: Dicionário com todas as métricas\n",
        "    \"\"\"\n",
        "    # TODO: Implementar função que retorna todas as métricas\n",
        "    # Retornar dicionário com chaves: 'mae', 'mse', 'rmse', 'r2'\n",
        "\n",
        "    # Seu código aqui\n",
        "    pass"
      ]
    }
  ],
  "metadata": {
    "kernelspec": {
      "display_name": "ml-curso",
      "language": "python",
      "name": "python3"
    },
    "language_info": {
      "codemirror_mode": {
        "name": "ipython",
        "version": 3
      },
      "file_extension": ".py",
      "mimetype": "text/x-python",
      "name": "python",
      "nbconvert_exporter": "python",
      "pygments_lexer": "ipython3",
      "version": "3.12.9"
    }
  },
  "nbformat": 4,
  "nbformat_minor": 5
}
