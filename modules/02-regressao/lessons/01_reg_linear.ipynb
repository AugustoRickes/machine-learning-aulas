{
 "cells": [
  {
   "cell_type": "markdown",
   "metadata": {},
   "source": [
    "# Regressão Linear\n",
    "\n",
    "## Introdução\n",
    "\n",
    "A regressão linear é um dos algoritmos mais fundamentais do machine learning.\n",
    "\n",
    "## Objetivos\n",
    "\n",
    "- Compreender os conceitos de regressão linear\n",
    "- Implementar regressão linear simples e múltipla\n",
    "- Avaliar modelos de regressão\n"
   ]
  },
  {
   "cell_type": "code",
   "execution_count": null,
   "metadata": {},
   "outputs": [],
   "source": [
    "import numpy as np\n",
    "import pandas as pd\n",
    "import matplotlib.pyplot as plt\n",
    "from sklearn.linear_model import LinearRegression\n",
    "from sklearn.model_selection import train_test_split\n",
    "from sklearn.metrics import mean_squared_error, r2_score\n",
    "\n",
    "np.random.seed(42)"
   ]
  },
  {
   "cell_type": "markdown",
   "metadata": {},
   "source": [
    "## 1. Regressão Linear Simples\n",
    "\n",
    "Vamos começar com um exemplo simples de uma variável.\n"
   ]
  },
  {
   "cell_type": "code",
   "execution_count": null,
   "metadata": {},
   "outputs": [],
   "source": [
    "# Gerar dados sintéticos\n",
    "n_samples = 100\n",
    "X = np.random.randn(n_samples, 1)\n",
    "y = 2 * X.ravel() + 1 + 0.5 * np.random.randn(n_samples)\n",
    "\n",
    "print(f\"Forma de X: {X.shape}\")\n",
    "print(f\"Forma de y: {y.shape}\")"
   ]
  },
  {
   "cell_type": "code",
   "execution_count": null,
   "metadata": {},
   "outputs": [],
   "source": [
    "# Visualizar os dados\n",
    "plt.figure(figsize=(8, 6))\n",
    "plt.scatter(X, y, alpha=0.6)\n",
    "plt.xlabel(\"X\")\n",
    "plt.ylabel(\"y\")\n",
    "plt.title(\"Dados para Regressão Linear Simples\")\n",
    "plt.grid(True, alpha=0.3)\n",
    "plt.show()"
   ]
  },
  {
   "cell_type": "markdown",
   "metadata": {},
   "source": [
    "## 2. Ajustando o Modelo\n"
   ]
  },
  {
   "cell_type": "code",
   "execution_count": null,
   "metadata": {},
   "outputs": [],
   "source": [
    "# Dividir dados em treino e teste\n",
    "X_train, X_test, y_train, y_test = train_test_split(\n",
    "    X, y, test_size=0.2, random_state=42\n",
    ")\n",
    "\n",
    "# Criar e treinar o modelo\n",
    "model = LinearRegression()\n",
    "model.fit(X_train, y_train)\n",
    "\n",
    "# Fazer previsões\n",
    "y_pred = model.predict(X_test)\n",
    "\n",
    "print(f\"Coeficiente (slope): {model.coef_[0]:.3f}\")\n",
    "print(f\"Intercepto: {model.intercept_:.3f}\")"
   ]
  },
  {
   "cell_type": "markdown",
   "metadata": {},
   "source": [
    "## 3. Avaliando o Modelo\n"
   ]
  },
  {
   "cell_type": "code",
   "execution_count": null,
   "metadata": {},
   "outputs": [],
   "source": [
    "# Calcular métricas\n",
    "mse = mean_squared_error(y_test, y_pred)\n",
    "r2 = r2_score(y_test, y_pred)\n",
    "\n",
    "print(f\"Mean Squared Error: {mse:.3f}\")\n",
    "print(f\"R² Score: {r2:.3f}\")"
   ]
  },
  {
   "cell_type": "code",
   "execution_count": null,
   "metadata": {},
   "outputs": [],
   "source": [
    "# Visualizar resultados\n",
    "plt.figure(figsize=(12, 5))\n",
    "\n",
    "# Subplot 1: Dados e linha de regressão\n",
    "plt.subplot(1, 2, 1)\n",
    "plt.scatter(X_test, y_test, alpha=0.6, label=\"Dados reais\")\n",
    "plt.scatter(X_test, y_pred, alpha=0.6, color=\"red\", label=\"Previsões\")\n",
    "# Linha de regressão\n",
    "X_line = np.linspace(X.min(), X.max(), 100).reshape(-1, 1)\n",
    "y_line = model.predict(X_line)\n",
    "plt.plot(X_line, y_line, \"r-\", linewidth=2, label=\"Linha de regressão\")\n",
    "plt.xlabel(\"X\")\n",
    "plt.ylabel(\"y\")\n",
    "plt.title(\"Regressão Linear\")\n",
    "plt.legend()\n",
    "plt.grid(True, alpha=0.3)\n",
    "\n",
    "# Subplot 2: Resíduos\n",
    "plt.subplot(1, 2, 2)\n",
    "residuals = y_test - y_pred\n",
    "plt.scatter(y_pred, residuals, alpha=0.6)\n",
    "plt.axhline(y=0, color=\"r\", linestyle=\"--\")\n",
    "plt.xlabel(\"Valores preditos\")\n",
    "plt.ylabel(\"Resíduos\")\n",
    "plt.title(\"Análise de Resíduos\")\n",
    "plt.grid(True, alpha=0.3)\n",
    "\n",
    "plt.tight_layout()\n",
    "plt.show()"
   ]
  },
  {
   "cell_type": "markdown",
   "metadata": {},
   "source": [
    "## 4. Regressão Linear Múltipla\n",
    "\n",
    "Agora vamos trabalhar com múltiplas variáveis.\n"
   ]
  },
  {
   "cell_type": "code",
   "execution_count": null,
   "metadata": {},
   "outputs": [],
   "source": [
    "# Carregar dados de exemplo (Boston Housing)\n",
    "# Como o dataset Boston está deprecated, vamos usar dados sintéticos\n",
    "np.random.seed(42)\n",
    "n_samples = 500\n",
    "n_features = 3\n",
    "\n",
    "X_multi = np.random.randn(n_samples, n_features)\n",
    "true_coef = np.array([1.5, -2.0, 0.5])\n",
    "y_multi = X_multi @ true_coef + 0.5 * np.random.randn(n_samples)\n",
    "\n",
    "print(f\"Forma de X: {X_multi.shape}\")\n",
    "print(f\"Coeficientes verdadeiros: {true_coef}\")"
   ]
  },
  {
   "cell_type": "code",
   "execution_count": null,
   "metadata": {},
   "outputs": [],
   "source": [
    "# Dividir dados e treinar modelo\n",
    "X_train_multi, X_test_multi, y_train_multi, y_test_multi = train_test_split(\n",
    "    X_multi, y_multi, test_size=0.2, random_state=42\n",
    ")\n",
    "\n",
    "model_multi = LinearRegression()\n",
    "model_multi.fit(X_train_multi, y_train_multi)\n",
    "\n",
    "y_pred_multi = model_multi.predict(X_test_multi)\n",
    "\n",
    "print(f\"Coeficientes estimados: {model_multi.coef_}\")\n",
    "print(f\"Intercepto: {model_multi.intercept_:.3f}\")"
   ]
  },
  {
   "cell_type": "code",
   "execution_count": null,
   "metadata": {},
   "outputs": [],
   "source": [
    "# Avaliar modelo múltiplo\n",
    "mse_multi = mean_squared_error(y_test_multi, y_pred_multi)\n",
    "r2_multi = r2_score(y_test_multi, y_pred_multi)\n",
    "\n",
    "print(f\"MSE (múltipla): {mse_multi:.3f}\")\n",
    "print(f\"R² (múltipla): {r2_multi:.3f}\")"
   ]
  },
  {
   "cell_type": "markdown",
   "metadata": {},
   "source": [
    "## 5. Conclusões\n",
    "\n",
    "- A regressão linear é um método simples mas poderoso\n",
    "- O R² nos indica a qualidade do ajuste\n",
    "- A análise de resíduos é importante para validar as suposições\n",
    "- Funciona bem para relações lineares entre variáveis\n"
   ]
  }
 ],
 "metadata": {
  "kernelspec": {
   "display_name": "ml-curso",
   "language": "python",
   "name": "python3"
  },
  "language_info": {
   "codemirror_mode": {
    "name": "ipython",
    "version": 3
   },
   "file_extension": ".py",
   "mimetype": "text/x-python",
   "name": "python",
   "nbconvert_exporter": "python",
   "pygments_lexer": "ipython3",
   "version": "3.12.9"
  }
 },
 "nbformat": 4,
 "nbformat_minor": 4
}
