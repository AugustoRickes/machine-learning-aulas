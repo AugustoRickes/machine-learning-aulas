{
 "cells": [
  {
   "cell_type": "markdown",
   "metadata": {},
   "source": [
    "Biblioteca Pandas:\n",
    "\n",
    "Análise:\n",
    "Explorar as características de uma base\n",
    "Realizar análises exploratórias com diferentes\n",
    "\n",
    "Tratamento:\n",
    "Valores nulos, remover registros inconsistentes"
   ]
  },
  {
   "cell_type": "code",
   "execution_count": null,
   "metadata": {},
   "outputs": [],
   "source": []
  }
 ],
 "metadata": {
  "language_info": {
   "name": "python"
  },
  "orig_nbformat": 4
 },
 "nbformat": 4,
 "nbformat_minor": 2
}
