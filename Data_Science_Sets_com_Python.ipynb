{
  "nbformat": 4,
  "nbformat_minor": 0,
  "metadata": {
    "colab": {
      "provenance": [],
      "collapsed_sections": [
        "ehKwJvXMbEuW"
      ],
      "include_colab_link": true
    },
    "kernelspec": {
      "name": "python3",
      "display_name": "Python 3"
    },
    "language_info": {
      "name": "python"
    }
  },
  "cells": [
    {
      "cell_type": "markdown",
      "metadata": {
        "id": "view-in-github",
        "colab_type": "text"
      },
      "source": [
        "<a href=\"https://colab.research.google.com/github/chiarorosa/ia_aprendizado_maquina_basico/blob/main/Data_Science_Sets_com_Python.ipynb\" target=\"_parent\"><img src=\"https://colab.research.google.com/assets/colab-badge.svg\" alt=\"Open In Colab\"/></a>"
      ]
    },
    {
      "cell_type": "markdown",
      "source": [
        "## **Criação dos sets**"
      ],
      "metadata": {
        "id": "hwdXSll0wgSW"
      }
    },
    {
      "cell_type": "markdown",
      "source": [
        "### **Utilizando as chaves `{ }`:**\n",
        "\n",
        "\n"
      ],
      "metadata": {
        "id": "yfaf8Gn6jALR"
      }
    },
    {
      "cell_type": "code",
      "source": [
        "carros = {'Polo', 'Jetta', 'Fastback', 'Gol'}\n",
        "\n",
        "print(carros)"
      ],
      "metadata": {
        "id": "FK3qZ08ckgXK",
        "colab": {
          "base_uri": "https://localhost:8080/"
        },
        "outputId": "931815d1-2c00-41fd-e910-86f582f16536"
      },
      "execution_count": null,
      "outputs": [
        {
          "output_type": "stream",
          "name": "stdout",
          "text": [
            "{'Polo', 'Fastback', 'Jetta', 'Gol'}\n"
          ]
        }
      ]
    },
    {
      "cell_type": "code",
      "source": [
        "# Sets com elementos diferentes\n",
        "\n",
        "elementos_diferentes = {2023, \"Fastback\", 130000.00, True}\n",
        "print(elementos_diferentes)"
      ],
      "metadata": {
        "colab": {
          "base_uri": "https://localhost:8080/"
        },
        "id": "6A1qeFDQEKuM",
        "outputId": "c8a24774-80bb-494e-fc54-eb238ce8b988"
      },
      "execution_count": null,
      "outputs": [
        {
          "output_type": "stream",
          "name": "stdout",
          "text": [
            "{130000.0, True, 'Fastback', 2023}\n"
          ]
        }
      ]
    },
    {
      "cell_type": "code",
      "source": [
        "for i in carros:\n",
        "  print(i)"
      ],
      "metadata": {
        "id": "dcccTfDPa_bH",
        "colab": {
          "base_uri": "https://localhost:8080/"
        },
        "outputId": "dc41b022-605b-4f8c-a16c-c529b83fa026"
      },
      "execution_count": null,
      "outputs": [
        {
          "output_type": "stream",
          "name": "stdout",
          "text": [
            "Polo\n",
            "Fastback\n",
            "Jetta\n",
            "Gol\n"
          ]
        }
      ]
    },
    {
      "cell_type": "markdown",
      "source": [
        "### **Utilizando listas e a função `set()`**"
      ],
      "metadata": {
        "id": "A7YsVhE6jHxL"
      }
    },
    {
      "cell_type": "code",
      "source": [
        "lista_escolas =  ['Inteligência Artificial', 'Desenvolvimento Web', 'Design de Interfaces', 'Aplicativos Móveis',\n",
        "                  'Engenharia de DevOps', 'Experiência do Usuário', 'Empreendedorismo e Gestão']"
      ],
      "metadata": {
        "id": "SPF6Lemvr155"
      },
      "execution_count": null,
      "outputs": []
    },
    {
      "cell_type": "code",
      "source": [
        "escolas_set = set(lista_escolas)\n",
        "\n",
        "print(escolas_set)"
      ],
      "metadata": {
        "colab": {
          "base_uri": "https://localhost:8080/"
        },
        "id": "z4XSX7EUQZTk",
        "outputId": "2f56f575-fc66-4177-e2b8-80226f1e4ac5"
      },
      "execution_count": null,
      "outputs": [
        {
          "output_type": "stream",
          "name": "stdout",
          "text": [
            "{'Design de Interfaces', 'Experiência do Usuário', 'Engenharia de DevOps', 'Empreendedorismo e Gestão', 'Aplicativos Móveis', 'Inteligência Artificial', 'Desenvolvimento Web'}\n"
          ]
        }
      ]
    },
    {
      "cell_type": "markdown",
      "source": [
        "### **Trabalhando com elementos repetidos:**"
      ],
      "metadata": {
        "id": "L65NhBb1jawr"
      }
    },
    {
      "cell_type": "code",
      "source": [
        "lista_carros = ['Polo', 'Jeta', 'Fastback', 'Gol'\n",
        "                'Golf', 'Toro', 'Polo']\n",
        "nova_lista = set(lista_carros)"
      ],
      "metadata": {
        "id": "VzHw4PPKr1-O"
      },
      "execution_count": null,
      "outputs": []
    },
    {
      "cell_type": "code",
      "source": [
        "# Utilizando a função len() para verificar a quantidade de elementos\n",
        "print(len(lista_carros))"
      ],
      "metadata": {
        "colab": {
          "base_uri": "https://localhost:8080/"
        },
        "id": "LZAOxogMd8qW",
        "outputId": "2a7a15f5-a2b4-462a-d586-b9ee5c76c59f"
      },
      "execution_count": null,
      "outputs": [
        {
          "output_type": "stream",
          "name": "stdout",
          "text": [
            "6\n"
          ]
        }
      ]
    },
    {
      "cell_type": "code",
      "source": [
        "print(nova_lista)"
      ],
      "metadata": {
        "colab": {
          "base_uri": "https://localhost:8080/"
        },
        "id": "rGMVqeWhd9YO",
        "outputId": "3d3f2ce4-1dbd-40fc-9f28-e6348515dd9c"
      },
      "execution_count": null,
      "outputs": [
        {
          "output_type": "stream",
          "name": "stdout",
          "text": [
            "{'Polo', 'GolGolf', 'Fastback', 'Toro', 'Jeta'}\n"
          ]
        }
      ]
    },
    {
      "cell_type": "code",
      "source": [
        "len(nova_lista)"
      ],
      "metadata": {
        "colab": {
          "base_uri": "https://localhost:8080/"
        },
        "id": "rXUxHPawWq8x",
        "outputId": "ab445430-ee8f-4de3-9187-6cd01f05bc4f"
      },
      "execution_count": null,
      "outputs": [
        {
          "output_type": "execute_result",
          "data": {
            "text/plain": [
              "5"
            ]
          },
          "metadata": {},
          "execution_count": 15
        }
      ]
    },
    {
      "cell_type": "markdown",
      "source": [
        "## **Operações com Sets**\n"
      ],
      "metadata": {
        "id": "U8Ur2s1KQlgv"
      }
    },
    {
      "cell_type": "markdown",
      "source": [
        "Para esse exercício, vamos precisar criar conjuntos com os **acessórios** de alguns modelos de carros"
      ],
      "metadata": {
        "id": "Jcko59YgXiT4"
      }
    },
    {
      "cell_type": "code",
      "source": [
        "caracteristicas_sedan = {'Teto Solar', 'Bancos de Couro', 'Câmbio Automático', 'Sistema de Navegação', 'Assistente de Velocidade'}\n",
        "print(caracteristicas_sedan)"
      ],
      "metadata": {
        "colab": {
          "base_uri": "https://localhost:8080/"
        },
        "id": "zA95t7-YXoE4",
        "outputId": "85c98bb9-d7a2-46bf-ffb6-b0c0669e819c"
      },
      "execution_count": null,
      "outputs": [
        {
          "output_type": "stream",
          "name": "stdout",
          "text": [
            "{'Bancos de Couro', 'Câmbio Automático', 'Sistema de Navegação', 'Assistente de Velocidade', 'Teto Solar'}\n"
          ]
        }
      ]
    },
    {
      "cell_type": "code",
      "source": [
        "caracteristicas_hatch = {'Sistema de Navegação', 'Tração Integral', 'Sistema de Entretenimento Multimídia', 'Câmbio Automático'}\n",
        "print(caracteristicas_hatch)"
      ],
      "metadata": {
        "colab": {
          "base_uri": "https://localhost:8080/"
        },
        "id": "lfgMiNEyXoE5",
        "outputId": "37b6d0ee-4fc8-4808-8f40-87d37bc3c64a"
      },
      "execution_count": null,
      "outputs": [
        {
          "output_type": "stream",
          "name": "stdout",
          "text": [
            "{'Sistema de Navegação', 'Sistema de Entretenimento Multimídia', 'Câmbio Automático', 'Tração Integral'}\n"
          ]
        }
      ]
    },
    {
      "cell_type": "code",
      "source": [
        "caracteristicas_sedan_luxo = {'Sistema Avançado de Controle de Estabilidade', 'Câmbio Automático', 'Sistema de Segurança Avançado', 'Rodas de Liga Leve'}\n",
        "print(caracteristicas_sedan_luxo)"
      ],
      "metadata": {
        "colab": {
          "base_uri": "https://localhost:8080/"
        },
        "id": "2dsJa9sAXoE5",
        "outputId": "a2b8cd6f-afe7-4af1-c436-54fcb9c2acdf"
      },
      "execution_count": null,
      "outputs": [
        {
          "output_type": "stream",
          "name": "stdout",
          "text": [
            "{'Sistema de Segurança Avançado', 'Câmbio Automático', 'Sistema Avançado de Controle de Estabilidade', 'Rodas de Liga Leve'}\n"
          ]
        }
      ]
    },
    {
      "cell_type": "markdown",
      "source": [
        "### **Disjunção**"
      ],
      "metadata": {
        "id": "Pp7URtpTQnXn"
      }
    },
    {
      "cell_type": "markdown",
      "source": [
        "<img src='https://i.imgur.com/o2wsgPo.png' width = 50%>"
      ],
      "metadata": {
        "id": "IRmgINkLWsjs"
      }
    },
    {
      "cell_type": "code",
      "source": [
        "set.isdisjoint(caracteristicas_sedan, caracteristicas_hatch)"
      ],
      "metadata": {
        "colab": {
          "base_uri": "https://localhost:8080/"
        },
        "id": "n3GfcrMHW4nu",
        "outputId": "e88f0b1e-e793-46e0-e9d0-09a83543d9da"
      },
      "execution_count": null,
      "outputs": [
        {
          "output_type": "execute_result",
          "data": {
            "text/plain": [
              "False"
            ]
          },
          "metadata": {},
          "execution_count": 19
        }
      ]
    },
    {
      "cell_type": "markdown",
      "source": [
        "### **Interseção**"
      ],
      "metadata": {
        "id": "0YYUbNDFWpvB"
      }
    },
    {
      "cell_type": "markdown",
      "source": [
        "<img src='https://i.imgur.com/6W7bxU1.png' width = 50%>"
      ],
      "metadata": {
        "id": "0OPz9M8vW-BZ"
      }
    },
    {
      "cell_type": "code",
      "source": [
        "caracteristicas_sedan & caracteristicas_hatch"
      ],
      "metadata": {
        "colab": {
          "base_uri": "https://localhost:8080/"
        },
        "id": "7Xg8Tyb3XIbs",
        "outputId": "a80ea263-fd49-4c49-c68b-602951189bc2"
      },
      "execution_count": null,
      "outputs": [
        {
          "output_type": "execute_result",
          "data": {
            "text/plain": [
              "{'Câmbio Automático', 'Sistema de Navegação'}"
            ]
          },
          "metadata": {},
          "execution_count": 20
        }
      ]
    },
    {
      "cell_type": "code",
      "source": [
        "caracteristicas_sedan & caracteristicas_sedan_luxo"
      ],
      "metadata": {
        "colab": {
          "base_uri": "https://localhost:8080/"
        },
        "id": "xQ6X-XbsYz_T",
        "outputId": "a38c943c-ff8c-4145-b2cd-8ac613104f70"
      },
      "execution_count": null,
      "outputs": [
        {
          "output_type": "execute_result",
          "data": {
            "text/plain": [
              "{'Câmbio Automático'}"
            ]
          },
          "metadata": {},
          "execution_count": 21
        }
      ]
    },
    {
      "cell_type": "code",
      "source": [
        "set.intersection(caracteristicas_sedan, caracteristicas_hatch, caracteristicas_sedan_luxo)"
      ],
      "metadata": {
        "colab": {
          "base_uri": "https://localhost:8080/"
        },
        "id": "OHa9LqNdY2ht",
        "outputId": "362183aa-5aa0-49d5-e000-99eab1c62114"
      },
      "execution_count": null,
      "outputs": [
        {
          "output_type": "execute_result",
          "data": {
            "text/plain": [
              "{'Câmbio Automático'}"
            ]
          },
          "metadata": {},
          "execution_count": 22
        }
      ]
    },
    {
      "cell_type": "markdown",
      "source": [
        "### **União**"
      ],
      "metadata": {
        "id": "GzUoqpFVZGIu"
      }
    },
    {
      "cell_type": "markdown",
      "source": [
        "<img src='https://i.imgur.com/C3MrKmK.png' width = 50%>"
      ],
      "metadata": {
        "id": "Me_90Pk7ZG9d"
      }
    },
    {
      "cell_type": "code",
      "source": [
        "caracteristicas_sedan | caracteristicas_hatch"
      ],
      "metadata": {
        "colab": {
          "base_uri": "https://localhost:8080/"
        },
        "id": "kYo9i7g5WrX_",
        "outputId": "615d121e-cbd4-4e31-b158-4edd79a6391b"
      },
      "execution_count": null,
      "outputs": [
        {
          "output_type": "execute_result",
          "data": {
            "text/plain": [
              "{'Assistente de Velocidade',\n",
              " 'Bancos de Couro',\n",
              " 'Câmbio Automático',\n",
              " 'Sistema de Entretenimento Multimídia',\n",
              " 'Sistema de Navegação',\n",
              " 'Teto Solar',\n",
              " 'Tração Integral'}"
            ]
          },
          "metadata": {},
          "execution_count": 23
        }
      ]
    },
    {
      "cell_type": "code",
      "source": [
        "set.union(caracteristicas_sedan, caracteristicas_hatch, caracteristicas_sedan_luxo, {'Teto Solar'})"
      ],
      "metadata": {
        "colab": {
          "base_uri": "https://localhost:8080/"
        },
        "id": "h7RZmv19auKU",
        "outputId": "f8f04e26-367d-4c66-882b-d1113bc68291"
      },
      "execution_count": null,
      "outputs": [
        {
          "output_type": "execute_result",
          "data": {
            "text/plain": [
              "{'Assistente de Velocidade',\n",
              " 'Bancos de Couro',\n",
              " 'Câmbio Automático',\n",
              " 'Rodas de Liga Leve',\n",
              " 'Sistema Avançado de Controle de Estabilidade',\n",
              " 'Sistema de Entretenimento Multimídia',\n",
              " 'Sistema de Navegação',\n",
              " 'Sistema de Segurança Avançado',\n",
              " 'Teto Solar',\n",
              " 'Tração Integral'}"
            ]
          },
          "metadata": {},
          "execution_count": 24
        }
      ]
    },
    {
      "cell_type": "markdown",
      "source": [
        "## **Perfomance**"
      ],
      "metadata": {
        "id": "wMelozu-ijag"
      }
    },
    {
      "cell_type": "code",
      "source": [
        "carros"
      ],
      "metadata": {
        "colab": {
          "base_uri": "https://localhost:8080/"
        },
        "id": "EhyRdV4CLvVX",
        "outputId": "9bdc28cf-91d8-4a2c-e806-0c3c64158640"
      },
      "execution_count": null,
      "outputs": [
        {
          "output_type": "execute_result",
          "data": {
            "text/plain": [
              "{'Fastback', 'Gol', 'Jetta', 'Polo'}"
            ]
          },
          "metadata": {},
          "execution_count": 25
        }
      ]
    },
    {
      "cell_type": "code",
      "source": [
        "'Golf' in carros"
      ],
      "metadata": {
        "colab": {
          "base_uri": "https://localhost:8080/"
        },
        "id": "PnRZ7Dp0Lwrt",
        "outputId": "dbf45dc3-8fa6-4933-db14-0944f4afef7b"
      },
      "execution_count": null,
      "outputs": [
        {
          "output_type": "execute_result",
          "data": {
            "text/plain": [
              "False"
            ]
          },
          "metadata": {},
          "execution_count": 26
        }
      ]
    },
    {
      "cell_type": "markdown",
      "source": [
        "### **Perfomance com vários elementos**"
      ],
      "metadata": {
        "id": "xLpWitV6L0At"
      }
    },
    {
      "cell_type": "code",
      "source": [
        "elementos_set = set(range(10000))\n",
        "elementos_list = list(range(10000))\n",
        "elementos_tuple = tuple(range(10000))"
      ],
      "metadata": {
        "id": "-OErengzhloO"
      },
      "execution_count": null,
      "outputs": []
    },
    {
      "cell_type": "code",
      "source": [
        "def verificar_elemento_in(elemento_iteravel):\n",
        "\n",
        "  for i in range(10000):\n",
        "    if i in elemento_iteravel:\n",
        "      pass"
      ],
      "metadata": {
        "id": "r5v0f69hhQpJ"
      },
      "execution_count": null,
      "outputs": []
    },
    {
      "cell_type": "code",
      "source": [
        "print(\"Tempo de execução set: \")\n",
        "%time verificar_elemento_in(elementos_set)\n",
        "print(\"=\"*30)\n",
        "\n",
        "print(\"Tempo de execução lista: \")\n",
        "%time verificar_elemento_in(elementos_list)\n",
        "print(\"=\"*30)\n",
        "\n",
        "print(\"Tempo de execução tuplas: \")\n",
        "%time verificar_elemento_in(elementos_tuple)\n",
        "print(\"=\"*30)"
      ],
      "metadata": {
        "colab": {
          "base_uri": "https://localhost:8080/"
        },
        "id": "Ny1_EsyZJxea",
        "outputId": "c62b220b-ab30-4684-ae26-1f92f3c738e4"
      },
      "execution_count": null,
      "outputs": [
        {
          "output_type": "stream",
          "name": "stdout",
          "text": [
            "Tempo de execução set: \n",
            "CPU times: user 1.26 ms, sys: 27 µs, total: 1.29 ms\n",
            "Wall time: 1.46 ms\n",
            "==============================\n",
            "Tempo de execução lista: \n",
            "CPU times: user 397 ms, sys: 0 ns, total: 397 ms\n",
            "Wall time: 408 ms\n",
            "==============================\n",
            "Tempo de execução tuplas: \n",
            "CPU times: user 294 ms, sys: 0 ns, total: 294 ms\n",
            "Wall time: 296 ms\n",
            "==============================\n"
          ]
        }
      ]
    }
  ]
}